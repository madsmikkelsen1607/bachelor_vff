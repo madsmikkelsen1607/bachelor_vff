{
 "cells": [
  {
   "cell_type": "markdown",
   "metadata": {},
   "source": []
  },
  {
   "cell_type": "code",
   "execution_count": null,
   "metadata": {},
   "outputs": [],
   "source": [
    "import pandas as pd\n",
    "import xml.etree.ElementTree as ET\n",
    "import os\n",
    "import json\n",
    "import dash\n",
    "from pathlib import Path    \n",
    "from moviepy.video.io.VideoFileClip import VideoFileClip\n",
    "\n",
    "current_dir = Path.cwd()\n",
    "project_root = current_dir.parent  # Move up one level\n",
    "git_dir = project_root / \"bachelor_vff\"\n",
    "data_dir = project_root / \"vff_loc_data\"\n",
    "video_dir = project_root / \"videos\"\n"
   ]
  },
  {
   "cell_type": "code",
   "execution_count": 2,
   "metadata": {},
   "outputs": [
    {
     "name": "stdout",
     "output_type": "stream",
     "text": [
      "    optaEvent.timeMin  optaEvent.timeSec optaEvent.playerName  optaEvent.x  \\\n",
      "4                 0.0                0.0         T. Jørgensen         50.1   \n",
      "17                0.0                4.0           D. Anyembe         28.4   \n",
      "24                0.0                8.0         K. Jørgensen         20.4   \n",
      "46                0.0               17.0         K. Jørgensen         39.7   \n",
      "68                0.0               28.0         K. Jørgensen         73.6   \n",
      "\n",
      "    optaEvent.y  \n",
      "4          50.0  \n",
      "17         43.0  \n",
      "24         12.8  \n",
      "46          0.0  \n",
      "68          0.0  \n"
     ]
    }
   ],
   "source": [
    "events_df = pd.read_csv(git_dir / \"events_data_2.csv\")\n",
    "passes_df = events_df[events_df['optaEvent.typeId'] == 1]\n",
    "print(passes_df[['optaEvent.timeMin', 'optaEvent.timeSec', 'optaEvent.playerName', 'optaEvent.x', 'optaEvent.y']].head())"
   ]
  },
  {
   "cell_type": "code",
   "execution_count": null,
   "metadata": {},
   "outputs": [],
   "source": [
    "from moviepy.video.io.VideoFileClip import VideoFileClip\n",
    "\n",
    "# 1. Data Loading and Preprocessing\n",
    "def load_data(match_path):\n",
    "    \"\"\"\n",
    "    Load event data from CSV and preprocess for syncing.\n",
    "    \"\"\"\n",
    "    events_df = pd.read_csv(match_path)\n",
    "\n",
    "    # Commented out code is only necessary for insufficient opta data\n",
    "\n",
    "    # Use 2sMarking.startFrameIdx if optaEvent.alignedFrameIdx is missing\n",
    "    #events_df['frameIdx'] = events_df['optaEvent.alignedFrameIdx'].combine_first(\n",
    "    #    events_df['2sMarking.startFrameIdx']\n",
    "    #)\n",
    "\n",
    "    # Use aligned clock or start clock as fallback\n",
    "    events_df['clock_time'] = events_df['optaEvent.alignedClock']#.combine_first(\n",
    "        #events_df['2sMarking.startClock']\n",
    "    #)\n",
    "\n",
    "    return events_df\n",
    "\n",
    "\n",
    "def calculate_video_times(events_df, kickoff_video_time, fps=50):\n",
    "    \"\"\"\n",
    "    Sync events with the video and calculate video times.\n",
    "    \"\"\"\n",
    "    # Find the kickoff frame and calculate offset (Not actually relevant, realized kickoff always happens at 0.04 so it is negligible)\n",
    "    #kickoff_row = events_df.loc[\n",
    "    #(events_df['optaEvent.period'] == 1) & \n",
    "    #(events_df['2sMarking.deadBallType'] == 'kick_off')\n",
    "    #]\n",
    "    #kickoff_clock = kickoff_row['clock_time']\n",
    "    kickoff_offset = kickoff_video_time# - kickoff_clock\n",
    "\n",
    "    # Adjust aligned clocks for second-half events\n",
    "    first_half_end = events_df.loc[events_df['optaEvent.period'] == 1].iloc[-1]\n",
    "    second_half_start = events_df.loc[events_df['optaEvent.period'] == 2].iloc[0]\n",
    "\n",
    "    first_half_end_time = pd.to_datetime(first_half_end['optaEvent.timeStamp'])\n",
    "    second_half_start_time = pd.to_datetime(second_half_start['optaEvent.timeStamp'])\n",
    "\n",
    "    time_difference = (second_half_start_time - first_half_end_time).total_seconds()\n",
    "    events_df.loc[events_df['optaEvent.period'] == 2, 'adjusted_alignedClock'] = (\n",
    "        events_df['optaEvent.alignedClock'] + time_difference\n",
    "    )\n",
    "\n",
    "    # Calculate video times for all events\n",
    "    events_df['video_time'] = events_df['optaEvent.alignedClock'] + kickoff_offset\n",
    "\n",
    "    return events_df\n",
    "\n",
    "\n",
    "# 2. Filtering Events\n",
    "def filter_events(events_df, type_id=None, player=None, location=None, output_file=\"filtered_events.csv\"):\n",
    "    \"\"\"\n",
    "    Filter events based on type, player, or location.\n",
    "    \"\"\"\n",
    "    filtered_df = events_df\n",
    "\n",
    "    if type_id is not None:\n",
    "        filtered_df = filtered_df[filtered_df['optaEvent.typeId'] == type_id]\n",
    "\n",
    "    if player is not None:\n",
    "        filtered_df = filtered_df[filtered_df['optaEvent.playerName'] == player]\n",
    "\n",
    "    if location is not None:\n",
    "        x_min, x_max, y_min, y_max = location\n",
    "        filtered_df = filtered_df[\n",
    "            (filtered_df['optaEvent.x'] >= x_min) &\n",
    "            (filtered_df['optaEvent.x'] <= x_max) &\n",
    "            (filtered_df['optaEvent.y'] >= y_min) &\n",
    "            (filtered_df['optaEvent.y'] <= y_max)\n",
    "        ]\n",
    "\n",
    "    filtered_df.to_csv(output_file, index=False)\n",
    "    print(f\"Filtered events saved to {output_file}\")\n",
    "    \n",
    "    return filtered_df\n",
    "\n",
    "def process_and_filter_events(match_path, video_path, output_file, type_id=None, player=None, location=None, kickoff_video_time=0.04, fps=50):\n",
    " \n",
    "    print(\"Loading match data...\")\n",
    "    events_df = load_data(match_path)\n",
    "    \n",
    "    print(\"Calculating video times...\")\n",
    "    events_df = calculate_video_times(events_df, kickoff_video_time, fps)\n",
    "    \n",
    "    print(\"Filtering events...\")\n",
    "    filtered_events = filter_events(events_df, type_id=type_id, player=player, location=location, output_file=output_file)\n",
    "    \n",
    "    return filtered_events\n",
    "\n"
   ]
  },
  {
   "cell_type": "code",
   "execution_count": 11,
   "metadata": {},
   "outputs": [],
   "source": [
    "\n",
    "class VideoPlayer:\n",
    "    def __init__(self, video_path, events, event_buffer=5):\n",
    "        \"\"\"\n",
    "        Initialize the video player with the video and filtered events.\n",
    "        :param video_path: Path to the video file.\n",
    "        :param events: DataFrame with filtered events.\n",
    "        :param event_buffer: Time (in seconds) to include before and after the event.\n",
    "        \"\"\"\n",
    "        self.video_path = video_path\n",
    "        self.events = events\n",
    "        self.event_buffer = event_buffer\n",
    "        self.current_event_idx = 0\n",
    "\n",
    "    def display_event(self):\n",
    "        \"\"\"\n",
    "        Play the current event using FFplay, highlighting the event range.\n",
    "        \"\"\"\n",
    "        event = self.events.iloc[self.current_event_idx]\n",
    "        video_time = event['video_time']\n",
    "        start_time = max(video_time - self.event_buffer, 0)\n",
    "        end_time = min(video_time + self.event_buffer, VideoFileClip(self.video_path).duration)\n",
    "\n",
    "        print(f\"Playing event {self.current_event_idx + 1}/{len(self.events)}: {start_time} to {end_time}\")\n",
    "\n",
    "        # Command to play the video with FFplay\n",
    "        ffplay_command = (\n",
    "            f'ffplay -i \"{self.video_path}\" -ss {start_time} -t {end_time - start_time} '\n",
    "            f'-vf \"drawtext=text=\\'Event {self.current_event_idx + 1}\\':x=10:y=10:fontsize=24:fontcolor=white:box=1:boxcolor=black@0.5\"'\n",
    "        )\n",
    "        os.system(ffplay_command)\n",
    "\n",
    "    def next_event(self):\n",
    "        \"\"\"\n",
    "        Navigate to the next event.\n",
    "        \"\"\"\n",
    "        if self.current_event_idx < len(self.events) - 1:\n",
    "            self.current_event_idx += 1\n",
    "        else:\n",
    "            print(\"You are already at the last event.\")\n",
    "\n",
    "    def previous_event(self):\n",
    "        \"\"\"\n",
    "        Navigate to the previous event.\n",
    "        \"\"\"\n",
    "        if self.current_event_idx > 0:\n",
    "            self.current_event_idx -= 1\n",
    "        else:\n",
    "            print(\"You are already at the first event.\")\n",
    "\n",
    "    def tag_event(self, relevant, new_start=None, new_end=None):\n",
    "        \"\"\"\n",
    "        Tag the current event as relevant or not and optionally edit start/end times.\n",
    "        \"\"\"\n",
    "        event = self.events.iloc[self.current_event_idx].copy()\n",
    "        event['relevant'] = relevant\n",
    "\n",
    "        # Adjust start/end times if provided\n",
    "        if new_start is not None:\n",
    "            event['start_time'] = new_start\n",
    "        else:\n",
    "            event['start_time'] = max(event['video_time'] - self.event_buffer, 0)\n",
    "\n",
    "        if new_end is not None:\n",
    "            event['end_time'] = new_end\n",
    "        else:\n",
    "            event['end_time'] = min(event['video_time'] + self.event_buffer, VideoFileClip(self.video_path).duration)\n",
    "\n",
    "        self.edited_events.append(event)\n",
    "        print(f\"Tagged event {self.current_event_idx + 1} as {'relevant' if relevant else 'not relevant'}.\")\n",
    "\n",
    "    def save_edited_events(self, output_file):\n",
    "        \"\"\"\n",
    "        Save edited events to a CSV file.\n",
    "        \"\"\"\n",
    "        edited_df = pd.DataFrame(self.edited_events)\n",
    "        edited_df.to_csv(output_file, index=False)\n",
    "        print(f\"Edited events saved to {output_file}\")\n"
   ]
  },
  {
   "cell_type": "code",
   "execution_count": null,
   "metadata": {},
   "outputs": [
    {
     "name": "stdout",
     "output_type": "stream",
     "text": [
      "Loading match data...\n",
      "Calculating video times...\n",
      "Filtering events...\n",
      "Filtered events saved to filtered_events.csv\n"
     ]
    },
    {
     "ename": "OSError",
     "evalue": "MoviePy error: the file /assets/output_video.mp4 could not be found!\nPlease check that you entered the correct path.",
     "output_type": "error",
     "traceback": [
      "\u001b[1;31m---------------------------------------------------------------------------\u001b[0m",
      "\u001b[1;31mOSError\u001b[0m                                   Traceback (most recent call last)",
      "Cell \u001b[1;32mIn[33], line 23\u001b[0m\n\u001b[0;32m     19\u001b[0m player \u001b[38;5;241m=\u001b[39m VideoPlayer(\u001b[38;5;28mstr\u001b[39m(video_path), filtered_events)\n\u001b[0;32m     21\u001b[0m \u001b[38;5;66;03m# Step 3: Use the VideoPlayer\u001b[39;00m\n\u001b[0;32m     22\u001b[0m \u001b[38;5;66;03m# Play the first event\u001b[39;00m\n\u001b[1;32m---> 23\u001b[0m \u001b[43mplayer\u001b[49m\u001b[38;5;241;43m.\u001b[39;49m\u001b[43mdisplay_event\u001b[49m\u001b[43m(\u001b[49m\u001b[43m)\u001b[49m\n\u001b[0;32m     25\u001b[0m \u001b[38;5;66;03m# Navigate and tag events\u001b[39;00m\n\u001b[0;32m     26\u001b[0m player\u001b[38;5;241m.\u001b[39mnext_event()\n",
      "Cell \u001b[1;32mIn[11], line 21\u001b[0m, in \u001b[0;36mVideoPlayer.display_event\u001b[1;34m(self)\u001b[0m\n\u001b[0;32m     19\u001b[0m video_time \u001b[38;5;241m=\u001b[39m event[\u001b[38;5;124m'\u001b[39m\u001b[38;5;124mvideo_time\u001b[39m\u001b[38;5;124m'\u001b[39m]\n\u001b[0;32m     20\u001b[0m start_time \u001b[38;5;241m=\u001b[39m \u001b[38;5;28mmax\u001b[39m(video_time \u001b[38;5;241m-\u001b[39m \u001b[38;5;28mself\u001b[39m\u001b[38;5;241m.\u001b[39mevent_buffer, \u001b[38;5;241m0\u001b[39m)\n\u001b[1;32m---> 21\u001b[0m end_time \u001b[38;5;241m=\u001b[39m \u001b[38;5;28mmin\u001b[39m(video_time \u001b[38;5;241m+\u001b[39m \u001b[38;5;28mself\u001b[39m\u001b[38;5;241m.\u001b[39mevent_buffer, \u001b[43mVideoFileClip\u001b[49m\u001b[43m(\u001b[49m\u001b[38;5;28;43mself\u001b[39;49m\u001b[38;5;241;43m.\u001b[39;49m\u001b[43mvideo_path\u001b[49m\u001b[43m)\u001b[49m\u001b[38;5;241m.\u001b[39mduration)\n\u001b[0;32m     23\u001b[0m \u001b[38;5;28mprint\u001b[39m(\u001b[38;5;124mf\u001b[39m\u001b[38;5;124m\"\u001b[39m\u001b[38;5;124mPlaying event \u001b[39m\u001b[38;5;132;01m{\u001b[39;00m\u001b[38;5;28mself\u001b[39m\u001b[38;5;241m.\u001b[39mcurrent_event_idx\u001b[38;5;250m \u001b[39m\u001b[38;5;241m+\u001b[39m\u001b[38;5;250m \u001b[39m\u001b[38;5;241m1\u001b[39m\u001b[38;5;132;01m}\u001b[39;00m\u001b[38;5;124m/\u001b[39m\u001b[38;5;132;01m{\u001b[39;00m\u001b[38;5;28mlen\u001b[39m(\u001b[38;5;28mself\u001b[39m\u001b[38;5;241m.\u001b[39mevents)\u001b[38;5;132;01m}\u001b[39;00m\u001b[38;5;124m: \u001b[39m\u001b[38;5;132;01m{\u001b[39;00mstart_time\u001b[38;5;132;01m}\u001b[39;00m\u001b[38;5;124m to \u001b[39m\u001b[38;5;132;01m{\u001b[39;00mend_time\u001b[38;5;132;01m}\u001b[39;00m\u001b[38;5;124m\"\u001b[39m)\n\u001b[0;32m     25\u001b[0m \u001b[38;5;66;03m# Command to play the video with FFplay\u001b[39;00m\n",
      "File \u001b[1;32mc:\\venvs\\vff310\\lib\\site-packages\\moviepy\\video\\io\\VideoFileClip.py:88\u001b[0m, in \u001b[0;36mVideoFileClip.__init__\u001b[1;34m(self, filename, has_mask, audio, audio_buffersize, target_resolution, resize_algorithm, audio_fps, audio_nbytes, verbose, fps_source)\u001b[0m\n\u001b[0;32m     86\u001b[0m \u001b[38;5;66;03m# Make a reader\u001b[39;00m\n\u001b[0;32m     87\u001b[0m pix_fmt \u001b[38;5;241m=\u001b[39m \u001b[38;5;124m\"\u001b[39m\u001b[38;5;124mrgba\u001b[39m\u001b[38;5;124m\"\u001b[39m \u001b[38;5;28;01mif\u001b[39;00m has_mask \u001b[38;5;28;01melse\u001b[39;00m \u001b[38;5;124m\"\u001b[39m\u001b[38;5;124mrgb24\u001b[39m\u001b[38;5;124m\"\u001b[39m\n\u001b[1;32m---> 88\u001b[0m \u001b[38;5;28mself\u001b[39m\u001b[38;5;241m.\u001b[39mreader \u001b[38;5;241m=\u001b[39m \u001b[43mFFMPEG_VideoReader\u001b[49m\u001b[43m(\u001b[49m\u001b[43mfilename\u001b[49m\u001b[43m,\u001b[49m\u001b[43m \u001b[49m\u001b[43mpix_fmt\u001b[49m\u001b[38;5;241;43m=\u001b[39;49m\u001b[43mpix_fmt\u001b[49m\u001b[43m,\u001b[49m\n\u001b[0;32m     89\u001b[0m \u001b[43m                                 \u001b[49m\u001b[43mtarget_resolution\u001b[49m\u001b[38;5;241;43m=\u001b[39;49m\u001b[43mtarget_resolution\u001b[49m\u001b[43m,\u001b[49m\n\u001b[0;32m     90\u001b[0m \u001b[43m                                 \u001b[49m\u001b[43mresize_algo\u001b[49m\u001b[38;5;241;43m=\u001b[39;49m\u001b[43mresize_algorithm\u001b[49m\u001b[43m,\u001b[49m\n\u001b[0;32m     91\u001b[0m \u001b[43m                                 \u001b[49m\u001b[43mfps_source\u001b[49m\u001b[38;5;241;43m=\u001b[39;49m\u001b[43mfps_source\u001b[49m\u001b[43m)\u001b[49m\n\u001b[0;32m     93\u001b[0m \u001b[38;5;66;03m# Make some of the reader's attributes accessible from the clip\u001b[39;00m\n\u001b[0;32m     94\u001b[0m \u001b[38;5;28mself\u001b[39m\u001b[38;5;241m.\u001b[39mduration \u001b[38;5;241m=\u001b[39m \u001b[38;5;28mself\u001b[39m\u001b[38;5;241m.\u001b[39mreader\u001b[38;5;241m.\u001b[39mduration\n",
      "File \u001b[1;32mc:\\venvs\\vff310\\lib\\site-packages\\moviepy\\video\\io\\ffmpeg_reader.py:35\u001b[0m, in \u001b[0;36mFFMPEG_VideoReader.__init__\u001b[1;34m(self, filename, print_infos, bufsize, pix_fmt, check_duration, target_resolution, resize_algo, fps_source)\u001b[0m\n\u001b[0;32m     33\u001b[0m \u001b[38;5;28mself\u001b[39m\u001b[38;5;241m.\u001b[39mfilename \u001b[38;5;241m=\u001b[39m filename\n\u001b[0;32m     34\u001b[0m \u001b[38;5;28mself\u001b[39m\u001b[38;5;241m.\u001b[39mproc \u001b[38;5;241m=\u001b[39m \u001b[38;5;28;01mNone\u001b[39;00m\n\u001b[1;32m---> 35\u001b[0m infos \u001b[38;5;241m=\u001b[39m \u001b[43mffmpeg_parse_infos\u001b[49m\u001b[43m(\u001b[49m\u001b[43mfilename\u001b[49m\u001b[43m,\u001b[49m\u001b[43m \u001b[49m\u001b[43mprint_infos\u001b[49m\u001b[43m,\u001b[49m\u001b[43m \u001b[49m\u001b[43mcheck_duration\u001b[49m\u001b[43m,\u001b[49m\n\u001b[0;32m     36\u001b[0m \u001b[43m                           \u001b[49m\u001b[43mfps_source\u001b[49m\u001b[43m)\u001b[49m\n\u001b[0;32m     37\u001b[0m \u001b[38;5;28mself\u001b[39m\u001b[38;5;241m.\u001b[39mfps \u001b[38;5;241m=\u001b[39m infos[\u001b[38;5;124m'\u001b[39m\u001b[38;5;124mvideo_fps\u001b[39m\u001b[38;5;124m'\u001b[39m]\n\u001b[0;32m     38\u001b[0m \u001b[38;5;28mself\u001b[39m\u001b[38;5;241m.\u001b[39msize \u001b[38;5;241m=\u001b[39m infos[\u001b[38;5;124m'\u001b[39m\u001b[38;5;124mvideo_size\u001b[39m\u001b[38;5;124m'\u001b[39m]\n",
      "File \u001b[1;32mc:\\venvs\\vff310\\lib\\site-packages\\moviepy\\video\\io\\ffmpeg_reader.py:270\u001b[0m, in \u001b[0;36mffmpeg_parse_infos\u001b[1;34m(filename, print_infos, check_duration, fps_source)\u001b[0m\n\u001b[0;32m    268\u001b[0m lines \u001b[38;5;241m=\u001b[39m infos\u001b[38;5;241m.\u001b[39msplitlines()\n\u001b[0;32m    269\u001b[0m \u001b[38;5;28;01mif\u001b[39;00m \u001b[38;5;124m\"\u001b[39m\u001b[38;5;124mNo such file or directory\u001b[39m\u001b[38;5;124m\"\u001b[39m \u001b[38;5;129;01min\u001b[39;00m lines[\u001b[38;5;241m-\u001b[39m\u001b[38;5;241m1\u001b[39m]:\n\u001b[1;32m--> 270\u001b[0m     \u001b[38;5;28;01mraise\u001b[39;00m \u001b[38;5;167;01mIOError\u001b[39;00m((\u001b[38;5;124m\"\u001b[39m\u001b[38;5;124mMoviePy error: the file \u001b[39m\u001b[38;5;132;01m%s\u001b[39;00m\u001b[38;5;124m could not be found!\u001b[39m\u001b[38;5;130;01m\\n\u001b[39;00m\u001b[38;5;124m\"\u001b[39m\n\u001b[0;32m    271\u001b[0m                   \u001b[38;5;124m\"\u001b[39m\u001b[38;5;124mPlease check that you entered the correct \u001b[39m\u001b[38;5;124m\"\u001b[39m\n\u001b[0;32m    272\u001b[0m                   \u001b[38;5;124m\"\u001b[39m\u001b[38;5;124mpath.\u001b[39m\u001b[38;5;124m\"\u001b[39m)\u001b[38;5;241m%\u001b[39mfilename)\n\u001b[0;32m    274\u001b[0m result \u001b[38;5;241m=\u001b[39m \u001b[38;5;28mdict\u001b[39m()\n\u001b[0;32m    277\u001b[0m \u001b[38;5;66;03m# get duration (in seconds)\u001b[39;00m\n",
      "\u001b[1;31mOSError\u001b[0m: MoviePy error: the file /assets/output_video.mp4 could not be found!\nPlease check that you entered the correct path."
     ]
    }
   ],
   "source": [
    "match_csv = Path(git_dir / \"events_data.csv\")\n",
    "video_path = Path(data_dir / 'output_video.mp4')\n",
    "output_file=\"filtered_events.csv\"\n",
    "\n",
    "# Step 1: Process and filter events\n",
    "filtered_events = process_and_filter_events(\n",
    "    match_path=match_csv,\n",
    "    video_path=video_path,\n",
    "    output_file=output_file,\n",
    "    type_id=1,  # Event type\n",
    "    player=\"J. Grønning\",  # Player filter\n",
    "    kickoff_video_time=324.5,  # Kickoff time in video\n",
    "    fps=50\n",
    ")\n",
    "\n",
    "\n",
    "# Step 2: Initialize VideoPlayer\n",
    "player = VideoPlayer(str(video_path), filtered_events)\n",
    "\n",
    "# Step 3: Use the VideoPlayer\n",
    "# Play the first event\n",
    "player.display_event()\n",
    "\n",
    "# Navigate and tag events\n",
    "player.next_event()\n",
    "player.display_event()\n",
    "player.tag_event(relevant=True, new_start=10.0, new_end=20.0)\n",
    "\n",
    "# Save tagged and edited events\n",
    "player.save_edited_events(\"edited_events.csv\")\n"
   ]
  },
  {
   "cell_type": "code",
   "execution_count": null,
   "metadata": {},
   "outputs": [
    {
     "name": "stdout",
     "output_type": "stream",
     "text": [
      "Loading match data...\n",
      "Calculating video times...\n",
      "Filtering events...\n",
      "Filtered events saved to filtered_events.csv\n"
     ]
    },
    {
     "data": {
      "text/html": [
       "\n",
       "        <iframe\n",
       "            width=\"100%\"\n",
       "            height=\"650\"\n",
       "            src=\"http://127.0.0.1:8050/\"\n",
       "            frameborder=\"0\"\n",
       "            allowfullscreen\n",
       "            \n",
       "        ></iframe>\n",
       "        "
      ],
      "text/plain": [
       "<IPython.lib.display.IFrame at 0x1b3a08b60b0>"
      ]
     },
     "metadata": {},
     "output_type": "display_data"
    },
    {
     "name": "stdout",
     "output_type": "stream",
     "text": [
      "   optaEvent.id  optaEvent.seqId  optaEvent.eventId  optaEvent.typeId  \\\n",
      "3    2751211171             1982                123                 1   \n",
      "7    2751217717              798                224                 1   \n",
      "\n",
      "   optaEvent.periodId  optaEvent.timeMin  optaEvent.timeSec  \\\n",
      "3                   1                 12                  5   \n",
      "7                   1                 20                 26   \n",
      "\n",
      "      optaEvent.contestantId  optaEvent.opContestantId  optaEvent.opPlayerId  \\\n",
      "3  cftj6g399tknheudaxsdpfdgb                       547                165922   \n",
      "7  cftj6g399tknheudaxsdpfdgb                       547                165922   \n",
      "\n",
      "   ...  2sMarking.nextContactLoc  2sMarking.secondContactId  \\\n",
      "3  ...                      None                       None   \n",
      "7  ...                      None                       None   \n",
      "\n",
      "   2sMarking.isOffenseNextContact 2sMarking.cardType   clock_time  \\\n",
      "3                            None               None   722.799988   \n",
      "7                            None               None  1222.640015   \n",
      "\n",
      "  adjusted_alignedClock   video_time       tag   start_time     end_time  \n",
      "3                   NaN  1047.299988  relevant  1044.299988  1052.299988  \n",
      "7                   NaN  1547.140015  relevant  1544.140015  1552.140015  \n",
      "\n",
      "[2 rows x 300 columns]\n",
      "    optaEvent.id  optaEvent.seqId  optaEvent.eventId  optaEvent.typeId  \\\n",
      "0     2751201975              118                 31                 1   \n",
      "3     2751211171             1982                123                 1   \n",
      "7     2751217717              798                224                 1   \n",
      "10    2751222123             1036                286                 1   \n",
      "\n",
      "    optaEvent.periodId  optaEvent.timeMin  optaEvent.timeSec  \\\n",
      "0                    1                  2                 32   \n",
      "3                    1                 12                  5   \n",
      "7                    1                 20                 26   \n",
      "10                   1                 27                  9   \n",
      "\n",
      "       optaEvent.contestantId  optaEvent.opContestantId  optaEvent.opPlayerId  \\\n",
      "0   cftj6g399tknheudaxsdpfdgb                       547                165922   \n",
      "3   cftj6g399tknheudaxsdpfdgb                       547                165922   \n",
      "7   cftj6g399tknheudaxsdpfdgb                       547                165922   \n",
      "10  cftj6g399tknheudaxsdpfdgb                       547                165922   \n",
      "\n",
      "    ...  2sMarking.nextContactLoc  2sMarking.secondContactId  \\\n",
      "0   ...                      None                       None   \n",
      "3   ...                      None                       None   \n",
      "7   ...                      None                       None   \n",
      "10  ...                      None                       None   \n",
      "\n",
      "    2sMarking.isOffenseNextContact 2sMarking.cardType   clock_time  \\\n",
      "0                             None               None   151.360001   \n",
      "3                             None               None   722.799988   \n",
      "7                             None               None  1222.640015   \n",
      "10                            None               None  1628.959961   \n",
      "\n",
      "   adjusted_alignedClock   video_time       tag   start_time     end_time  \n",
      "0                    NaN   475.860001  relevant   472.860001   480.860001  \n",
      "3                    NaN  1047.299988  relevant  1044.299988  1052.299988  \n",
      "7                    NaN  1547.140015  relevant  1544.140015  1552.140015  \n",
      "10                   NaN  1953.459961  relevant  1921.242181  1956.783706  \n",
      "\n",
      "[4 rows x 300 columns]\n"
     ]
    }
   ],
   "source": [
    "from dash import Dash, html, Input, Output, State, dcc\n",
    "import pandas as pd\n",
    "from dash_player import DashPlayer\n",
    "\n",
    "# File paths and initial setup\n",
    "match_csv = Path(git_dir / \"events_data.csv\")\n",
    "video_path = Path(data_dir / 'output_video.mp4')\n",
    "output_file = \"filtered_events.csv\"\n",
    "\n",
    "# Step 1: Process and filter events using the existing function\n",
    "filtered_events = process_and_filter_events(\n",
    "    match_path=str(match_csv),  # Convert Path to string\n",
    "    video_path=str(video_path),\n",
    "    output_file=str(output_file),  # Convert Path to string\n",
    "    type_id=1,  # Example: Passes\n",
    "    player=\"J. Grønning\",  # Example: Filter events for J. Grønning\n",
    "    kickoff_video_time=324.5,\n",
    "    fps=50\n",
    ")\n",
    "\n",
    "# Set video path for DashPlayer\n",
    "video_path = \"/assets/output_video.mp4\"\n",
    "\n",
    "# Add columns for tagging and manual start/end times\n",
    "filtered_events[\"tag\"] = None\n",
    "filtered_events[\"start_time\"] = filtered_events[\"video_time\"] - 3\n",
    "filtered_events[\"end_time\"] = filtered_events[\"video_time\"] + 5\n",
    "\n",
    "# Create Dash app\n",
    "app = Dash(__name__)\n",
    "\n",
    "# Layout\n",
    "app.layout = html.Div([\n",
    "    html.H1(\"Interactive Video Player with Tagging\"),\n",
    "    DashPlayer(\n",
    "        id=\"video-player\",\n",
    "        url=video_path,\n",
    "        controls=True,\n",
    "        width=\"100%\",\n",
    "        height=\"500px\",\n",
    "    ),\n",
    "    html.Br(),\n",
    "    html.Div([\n",
    "        html.Button(\"Previous Event\", id=\"prev-event-btn\"),\n",
    "        html.Button(\"Next Event\", id=\"next-event-btn\"),\n",
    "    ]),\n",
    "    html.Br(),\n",
    "    html.Div(id=\"event-details\", style={\"margin-top\": \"20px\"}),\n",
    "    html.Br(),\n",
    "    html.Label(\"Tag this event:\"),\n",
    "    dcc.Dropdown(\n",
    "        id=\"tag-dropdown\",\n",
    "        options=[\n",
    "            {\"label\": \"Relevant\", \"value\": \"relevant\"},\n",
    "            {\"label\": \"Not Relevant\", \"value\": \"not_relevant\"},\n",
    "        ],\n",
    "        placeholder=\"Select tag\",\n",
    "    ),\n",
    "    html.Br(),\n",
    "    html.Button(\"Set Start Time\", id=\"set-start-btn\"),\n",
    "    html.Button(\"Set End Time\", id=\"set-end-btn\"),\n",
    "    html.Br(),\n",
    "    html.Button(\"Export Tagged Events\", id=\"export-events-btn\"),\n",
    "    dcc.Store(id=\"current-event-index\", data=0),\n",
    "    dcc.Store(id=\"filtered-events\", data=filtered_events.to_dict(\"records\")),\n",
    "])\n",
    "\n",
    "# Callback for navigation, tagging, and exporting\n",
    "@app.callback(\n",
    "    [\n",
    "        Output(\"current-event-index\", \"data\"),\n",
    "        Output(\"event-details\", \"children\"),\n",
    "        Output(\"tag-dropdown\", \"value\"),\n",
    "        Output(\"video-player\", \"seekTo\"),  # Update video playback position\n",
    "        Output(\"filtered-events\", \"data\"),  # Update stored filtered events\n",
    "    ],\n",
    "    [\n",
    "        Input(\"prev-event-btn\", \"n_clicks\"),\n",
    "        Input(\"next-event-btn\", \"n_clicks\"),\n",
    "        Input(\"set-start-btn\", \"n_clicks\"),\n",
    "        Input(\"set-end-btn\", \"n_clicks\"),\n",
    "        Input(\"tag-dropdown\", \"value\"),\n",
    "        Input(\"export-events-btn\", \"n_clicks\"),\n",
    "    ],\n",
    "    [\n",
    "        State(\"video-player\", \"currentTime\"),\n",
    "        State(\"current-event-index\", \"data\"),\n",
    "        State(\"filtered-events\", \"data\"),\n",
    "    ],\n",
    "    prevent_initial_call=True,\n",
    ")\n",
    "def update_event_details(prev_clicks, next_clicks, set_start, set_end, tag, export_clicks, current_time, current_index, data):\n",
    "    # Reconstruct filtered_events DataFrame from stored data\n",
    "    filtered_events = pd.DataFrame(data)\n",
    "    ctx = dash.callback_context\n",
    "\n",
    "    if not ctx.triggered:\n",
    "        return current_index, \"No event selected\", None, None, filtered_events.to_dict(\"records\")\n",
    "\n",
    "    button_id = ctx.triggered[0][\"prop_id\"].split(\".\")[0]\n",
    "\n",
    "    # Handle navigation\n",
    "    if button_id in [\"prev-event-btn\", \"next-event-btn\"]:\n",
    "        if button_id == \"prev-event-btn\" and current_index > 0:\n",
    "            current_index -= 1\n",
    "        elif button_id == \"next-event-btn\" and current_index < len(filtered_events) - 1:\n",
    "            current_index += 1\n",
    "\n",
    "    # Handle setting start/end time\n",
    "    if button_id == \"set-start-btn\":\n",
    "        filtered_events.at[current_index, \"start_time\"] = current_time\n",
    "    elif button_id == \"set-end-btn\":\n",
    "        filtered_events.at[current_index, \"end_time\"] = current_time\n",
    "\n",
    "    # Handle tagging\n",
    "    if button_id == \"tag-dropdown\":\n",
    "        filtered_events.at[current_index, \"tag\"] = tag\n",
    "\n",
    "    # Handle exporting tagged events\n",
    "    if button_id == \"export-events-btn\":\n",
    "        tagged_events = filtered_events.dropna(subset=[\"tag\"])  # Keep only tagged events\n",
    "        print(tagged_events)  # Debug: Show tagged events in console\n",
    "        if not tagged_events.empty:\n",
    "            tagged_events.to_csv(\"tagged_events.csv\", index=False)\n",
    "            export_message = f\"Exported {len(tagged_events)} tagged events to 'tagged_events.csv'.\"\n",
    "        else:\n",
    "            export_message = \"No tagged events to export.\"\n",
    "        return current_index, export_message, tag, None, filtered_events.to_dict(\"records\")\n",
    "\n",
    "    # Update event details and seekTo property\n",
    "    event = filtered_events.iloc[current_index]\n",
    "    details = f\"Event {current_index + 1}: Start {event['start_time']}s, End {event['end_time']}s, Tag: {event['tag']}\"\n",
    "    seek_time = max(event[\"video_time\"] - 3, 0)  # Seek to 3 seconds before event\n",
    "\n",
    "    return current_index, details, event[\"tag\"], seek_time, filtered_events.to_dict(\"records\")\n",
    "\n",
    "\n",
    "if __name__ == \"__main__\":\n",
    "    app.run_server(debug=True)\n"
   ]
  },
  {
   "cell_type": "code",
   "execution_count": 37,
   "metadata": {},
   "outputs": [
    {
     "name": "stdout",
     "output_type": "stream",
     "text": [
      "Dash version: 2.18.2\n"
     ]
    }
   ],
   "source": [
    "print(\"Dash version:\", dash.__version__)"
   ]
  },
  {
   "cell_type": "code",
   "execution_count": null,
   "metadata": {},
   "outputs": [],
   "source": [
    "# 3. Clip Extraction\n",
    "def extract_clips(events_df, video_path, output_dir, event_buffer=5):\n",
    "    \"\"\"\n",
    "    Extract clips for each event in the DataFrame and save them as separate video files.\n",
    "    Includes debugging output for each clip.\n",
    "    \"\"\"\n",
    "    # Ensure output directory exists\n",
    "    Path(output_dir).mkdir(parents=True, exist_ok=True)\n",
    "\n",
    "    # Drop rows with NaN in 'video_time' to avoid errors\n",
    "    events_df = events_df.dropna(subset=['video_time'])\n",
    "\n",
    "    for idx, row in events_df.iterrows():\n",
    "        start_time = max(row['video_time'] - event_buffer, 0)\n",
    "        end_time = row['video_time'] + event_buffer\n",
    "        output_path = str(Path(output_dir) / f\"event_clip_{idx}.mp4\")\n",
    "\n",
    "        # Debug output for each event\n",
    "        print(f\"Processing event {idx}: Start={start_time}, End={end_time}, Output={output_path}\")\n",
    "\n",
    "        try:\n",
    "            # Convert video_path to string if it's a Path object\n",
    "            with VideoFileClip(str(video_path)) as video:\n",
    "                clip = video.subclip(start_time, end_time)  # Create subclip\n",
    "                clip.write_videofile(output_path, codec=\"libx264\")  # Save the clip\n",
    "                print(f\"Saved clip to {output_path}\")\n",
    "        except Exception as e:\n",
    "            print(f\"Error processing clip for event {idx}: {e}\")\n",
    "\n",
    "\n",
    "# 4. Main Function\n",
    "def process_match(match_csv, video_path, output_dir, kickoff_video_time):\n",
    "    \"\"\"\n",
    "    Complete pipeline for processing a match and extracting clips.\n",
    "    \"\"\"\n",
    "    # Load and preprocess data\n",
    "    events_df = load_data(match_csv)\n",
    "    events_df = calculate_video_times(events_df, kickoff_video_time)\n",
    "\n",
    "    # Filter for passes (example)\n",
    "    passes_df = filter_events(events_df, type_id=1, player=\"J. Grønning\")\n",
    "\n",
    "    # Extract clips\n",
    "    extract_clips(passes_df, video_path, output_dir)\n",
    "\n",
    "\n",
    "# Example Usage\n",
    "#if __name__ == \"__main__\":\n",
    "    #match_csv = \"bachelor_vff/events_data.csv\"  # Path to event data\n",
    "    #video_path = \"bachelor_vff/match_video.mp4\"  # Path to video\n",
    "    #output_dir = \"bachelor_vff/output_clips\"     # Directory for output clips\n",
    "    #kickoff_video_time = 120.0  # Example kickoff time in video (seconds)\n",
    "\n",
    "    #process_match(match_csv, video_path, output_dir, kickoff_video_time)\n"
   ]
  },
  {
   "cell_type": "code",
   "execution_count": 37,
   "metadata": {},
   "outputs": [
    {
     "name": "stdout",
     "output_type": "stream",
     "text": [
      "Processing event 241: Start=470.86000061035156, End=480.86000061035156, Output=c:\\Users\\viggo\\Documents\\Cognitive Science\\5th semester\\Bachelor\\git_workspace\\bachelor_vff\\output_clips\\event_clip_241.mp4\n",
      "Moviepy - Building video c:\\Users\\viggo\\Documents\\Cognitive Science\\5th semester\\Bachelor\\git_workspace\\bachelor_vff\\output_clips\\event_clip_241.mp4.\n",
      "MoviePy - Writing audio in event_clip_241TEMP_MPY_wvf_snd.mp3\n"
     ]
    },
    {
     "name": "stderr",
     "output_type": "stream",
     "text": [
      "                                                                   \r"
     ]
    },
    {
     "name": "stdout",
     "output_type": "stream",
     "text": [
      "MoviePy - Done.\n",
      "Moviepy - Writing video c:\\Users\\viggo\\Documents\\Cognitive Science\\5th semester\\Bachelor\\git_workspace\\bachelor_vff\\output_clips\\event_clip_241.mp4\n",
      "\n"
     ]
    },
    {
     "name": "stderr",
     "output_type": "stream",
     "text": [
      "                                                              \r"
     ]
    },
    {
     "name": "stdout",
     "output_type": "stream",
     "text": [
      "Moviepy - Done !\n",
      "Moviepy - video ready c:\\Users\\viggo\\Documents\\Cognitive Science\\5th semester\\Bachelor\\git_workspace\\bachelor_vff\\output_clips\\event_clip_241.mp4\n",
      "Saved clip to c:\\Users\\viggo\\Documents\\Cognitive Science\\5th semester\\Bachelor\\git_workspace\\bachelor_vff\\output_clips\\event_clip_241.mp4\n",
      "Processing event 352: Start=533.9799957275391, End=543.9799957275391, Output=c:\\Users\\viggo\\Documents\\Cognitive Science\\5th semester\\Bachelor\\git_workspace\\bachelor_vff\\output_clips\\event_clip_352.mp4\n",
      "Moviepy - Building video c:\\Users\\viggo\\Documents\\Cognitive Science\\5th semester\\Bachelor\\git_workspace\\bachelor_vff\\output_clips\\event_clip_352.mp4.\n",
      "MoviePy - Writing audio in event_clip_352TEMP_MPY_wvf_snd.mp3\n"
     ]
    },
    {
     "name": "stderr",
     "output_type": "stream",
     "text": [
      "                                                                   \r"
     ]
    },
    {
     "name": "stdout",
     "output_type": "stream",
     "text": [
      "MoviePy - Done.\n",
      "Moviepy - Writing video c:\\Users\\viggo\\Documents\\Cognitive Science\\5th semester\\Bachelor\\git_workspace\\bachelor_vff\\output_clips\\event_clip_352.mp4\n",
      "\n"
     ]
    },
    {
     "name": "stderr",
     "output_type": "stream",
     "text": [
      "                                                              \r"
     ]
    },
    {
     "name": "stdout",
     "output_type": "stream",
     "text": [
      "Moviepy - Done !\n",
      "Moviepy - video ready c:\\Users\\viggo\\Documents\\Cognitive Science\\5th semester\\Bachelor\\git_workspace\\bachelor_vff\\output_clips\\event_clip_352.mp4\n",
      "Saved clip to c:\\Users\\viggo\\Documents\\Cognitive Science\\5th semester\\Bachelor\\git_workspace\\bachelor_vff\\output_clips\\event_clip_352.mp4\n",
      "Processing event 508: Start=624.6199951171875, End=634.6199951171875, Output=c:\\Users\\viggo\\Documents\\Cognitive Science\\5th semester\\Bachelor\\git_workspace\\bachelor_vff\\output_clips\\event_clip_508.mp4\n",
      "Moviepy - Building video c:\\Users\\viggo\\Documents\\Cognitive Science\\5th semester\\Bachelor\\git_workspace\\bachelor_vff\\output_clips\\event_clip_508.mp4.\n",
      "MoviePy - Writing audio in event_clip_508TEMP_MPY_wvf_snd.mp3\n"
     ]
    },
    {
     "name": "stderr",
     "output_type": "stream",
     "text": [
      "                                                                   \r"
     ]
    },
    {
     "name": "stdout",
     "output_type": "stream",
     "text": [
      "MoviePy - Done.\n",
      "Moviepy - Writing video c:\\Users\\viggo\\Documents\\Cognitive Science\\5th semester\\Bachelor\\git_workspace\\bachelor_vff\\output_clips\\event_clip_508.mp4\n",
      "\n"
     ]
    },
    {
     "name": "stderr",
     "output_type": "stream",
     "text": [
      "                                                              \r"
     ]
    },
    {
     "name": "stdout",
     "output_type": "stream",
     "text": [
      "Moviepy - Done !\n",
      "Moviepy - video ready c:\\Users\\viggo\\Documents\\Cognitive Science\\5th semester\\Bachelor\\git_workspace\\bachelor_vff\\output_clips\\event_clip_508.mp4\n",
      "Saved clip to c:\\Users\\viggo\\Documents\\Cognitive Science\\5th semester\\Bachelor\\git_workspace\\bachelor_vff\\output_clips\\event_clip_508.mp4\n",
      "Processing event 1078: Start=1042.2999877929688, End=1052.2999877929688, Output=c:\\Users\\viggo\\Documents\\Cognitive Science\\5th semester\\Bachelor\\git_workspace\\bachelor_vff\\output_clips\\event_clip_1078.mp4\n",
      "Moviepy - Building video c:\\Users\\viggo\\Documents\\Cognitive Science\\5th semester\\Bachelor\\git_workspace\\bachelor_vff\\output_clips\\event_clip_1078.mp4.\n",
      "MoviePy - Writing audio in event_clip_1078TEMP_MPY_wvf_snd.mp3\n"
     ]
    },
    {
     "name": "stderr",
     "output_type": "stream",
     "text": [
      "                                                                   \r"
     ]
    },
    {
     "name": "stdout",
     "output_type": "stream",
     "text": [
      "MoviePy - Done.\n",
      "Moviepy - Writing video c:\\Users\\viggo\\Documents\\Cognitive Science\\5th semester\\Bachelor\\git_workspace\\bachelor_vff\\output_clips\\event_clip_1078.mp4\n",
      "\n"
     ]
    },
    {
     "name": "stderr",
     "output_type": "stream",
     "text": [
      "                                                              \r"
     ]
    },
    {
     "name": "stdout",
     "output_type": "stream",
     "text": [
      "Moviepy - Done !\n",
      "Moviepy - video ready c:\\Users\\viggo\\Documents\\Cognitive Science\\5th semester\\Bachelor\\git_workspace\\bachelor_vff\\output_clips\\event_clip_1078.mp4\n",
      "Saved clip to c:\\Users\\viggo\\Documents\\Cognitive Science\\5th semester\\Bachelor\\git_workspace\\bachelor_vff\\output_clips\\event_clip_1078.mp4\n",
      "Processing event 1323: Start=1208.6199951171875, End=1218.6199951171875, Output=c:\\Users\\viggo\\Documents\\Cognitive Science\\5th semester\\Bachelor\\git_workspace\\bachelor_vff\\output_clips\\event_clip_1323.mp4\n",
      "Moviepy - Building video c:\\Users\\viggo\\Documents\\Cognitive Science\\5th semester\\Bachelor\\git_workspace\\bachelor_vff\\output_clips\\event_clip_1323.mp4.\n",
      "MoviePy - Writing audio in event_clip_1323TEMP_MPY_wvf_snd.mp3\n"
     ]
    },
    {
     "name": "stderr",
     "output_type": "stream",
     "text": [
      "                                                                   \r"
     ]
    },
    {
     "name": "stdout",
     "output_type": "stream",
     "text": [
      "MoviePy - Done.\n",
      "Moviepy - Writing video c:\\Users\\viggo\\Documents\\Cognitive Science\\5th semester\\Bachelor\\git_workspace\\bachelor_vff\\output_clips\\event_clip_1323.mp4\n",
      "\n"
     ]
    },
    {
     "name": "stderr",
     "output_type": "stream",
     "text": [
      "                                                              \r"
     ]
    },
    {
     "name": "stdout",
     "output_type": "stream",
     "text": [
      "Moviepy - Done !\n",
      "Moviepy - video ready c:\\Users\\viggo\\Documents\\Cognitive Science\\5th semester\\Bachelor\\git_workspace\\bachelor_vff\\output_clips\\event_clip_1323.mp4\n",
      "Saved clip to c:\\Users\\viggo\\Documents\\Cognitive Science\\5th semester\\Bachelor\\git_workspace\\bachelor_vff\\output_clips\\event_clip_1323.mp4\n",
      "Processing event 1715: Start=1465.8599853515625, End=1475.8599853515625, Output=c:\\Users\\viggo\\Documents\\Cognitive Science\\5th semester\\Bachelor\\git_workspace\\bachelor_vff\\output_clips\\event_clip_1715.mp4\n",
      "Moviepy - Building video c:\\Users\\viggo\\Documents\\Cognitive Science\\5th semester\\Bachelor\\git_workspace\\bachelor_vff\\output_clips\\event_clip_1715.mp4.\n",
      "MoviePy - Writing audio in event_clip_1715TEMP_MPY_wvf_snd.mp3\n"
     ]
    },
    {
     "name": "stderr",
     "output_type": "stream",
     "text": [
      "                                                                \r"
     ]
    },
    {
     "name": "stdout",
     "output_type": "stream",
     "text": [
      "MoviePy - Done.\n",
      "Moviepy - Writing video c:\\Users\\viggo\\Documents\\Cognitive Science\\5th semester\\Bachelor\\git_workspace\\bachelor_vff\\output_clips\\event_clip_1715.mp4\n",
      "\n"
     ]
    },
    {
     "name": "stderr",
     "output_type": "stream",
     "text": [
      "                                                              \r"
     ]
    },
    {
     "name": "stdout",
     "output_type": "stream",
     "text": [
      "Moviepy - Done !\n",
      "Moviepy - video ready c:\\Users\\viggo\\Documents\\Cognitive Science\\5th semester\\Bachelor\\git_workspace\\bachelor_vff\\output_clips\\event_clip_1715.mp4\n",
      "Saved clip to c:\\Users\\viggo\\Documents\\Cognitive Science\\5th semester\\Bachelor\\git_workspace\\bachelor_vff\\output_clips\\event_clip_1715.mp4\n",
      "Processing event 1832: Start=1526.739990234375, End=1536.739990234375, Output=c:\\Users\\viggo\\Documents\\Cognitive Science\\5th semester\\Bachelor\\git_workspace\\bachelor_vff\\output_clips\\event_clip_1832.mp4\n",
      "Moviepy - Building video c:\\Users\\viggo\\Documents\\Cognitive Science\\5th semester\\Bachelor\\git_workspace\\bachelor_vff\\output_clips\\event_clip_1832.mp4.\n",
      "MoviePy - Writing audio in event_clip_1832TEMP_MPY_wvf_snd.mp3\n"
     ]
    },
    {
     "name": "stderr",
     "output_type": "stream",
     "text": [
      "                                                                   \r"
     ]
    },
    {
     "name": "stdout",
     "output_type": "stream",
     "text": [
      "MoviePy - Done.\n",
      "Moviepy - Writing video c:\\Users\\viggo\\Documents\\Cognitive Science\\5th semester\\Bachelor\\git_workspace\\bachelor_vff\\output_clips\\event_clip_1832.mp4\n",
      "\n"
     ]
    },
    {
     "name": "stderr",
     "output_type": "stream",
     "text": [
      "                                                              \r"
     ]
    },
    {
     "name": "stdout",
     "output_type": "stream",
     "text": [
      "Moviepy - Done !\n",
      "Moviepy - video ready c:\\Users\\viggo\\Documents\\Cognitive Science\\5th semester\\Bachelor\\git_workspace\\bachelor_vff\\output_clips\\event_clip_1832.mp4\n",
      "Saved clip to c:\\Users\\viggo\\Documents\\Cognitive Science\\5th semester\\Bachelor\\git_workspace\\bachelor_vff\\output_clips\\event_clip_1832.mp4\n",
      "Processing event 1892: Start=1542.1400146484375, End=1552.1400146484375, Output=c:\\Users\\viggo\\Documents\\Cognitive Science\\5th semester\\Bachelor\\git_workspace\\bachelor_vff\\output_clips\\event_clip_1892.mp4\n",
      "Moviepy - Building video c:\\Users\\viggo\\Documents\\Cognitive Science\\5th semester\\Bachelor\\git_workspace\\bachelor_vff\\output_clips\\event_clip_1892.mp4.\n",
      "MoviePy - Writing audio in event_clip_1892TEMP_MPY_wvf_snd.mp3\n"
     ]
    },
    {
     "name": "stderr",
     "output_type": "stream",
     "text": [
      "                                                                    \r"
     ]
    },
    {
     "name": "stdout",
     "output_type": "stream",
     "text": [
      "MoviePy - Done.\n",
      "Moviepy - Writing video c:\\Users\\viggo\\Documents\\Cognitive Science\\5th semester\\Bachelor\\git_workspace\\bachelor_vff\\output_clips\\event_clip_1892.mp4\n",
      "\n"
     ]
    },
    {
     "name": "stderr",
     "output_type": "stream",
     "text": [
      "                                                              \r"
     ]
    },
    {
     "name": "stdout",
     "output_type": "stream",
     "text": [
      "Moviepy - Done !\n",
      "Moviepy - video ready c:\\Users\\viggo\\Documents\\Cognitive Science\\5th semester\\Bachelor\\git_workspace\\bachelor_vff\\output_clips\\event_clip_1892.mp4\n",
      "Saved clip to c:\\Users\\viggo\\Documents\\Cognitive Science\\5th semester\\Bachelor\\git_workspace\\bachelor_vff\\output_clips\\event_clip_1892.mp4\n",
      "Processing event 2350: Start=1859.06005859375, End=1869.06005859375, Output=c:\\Users\\viggo\\Documents\\Cognitive Science\\5th semester\\Bachelor\\git_workspace\\bachelor_vff\\output_clips\\event_clip_2350.mp4\n",
      "Moviepy - Building video c:\\Users\\viggo\\Documents\\Cognitive Science\\5th semester\\Bachelor\\git_workspace\\bachelor_vff\\output_clips\\event_clip_2350.mp4.\n",
      "MoviePy - Writing audio in event_clip_2350TEMP_MPY_wvf_snd.mp3\n"
     ]
    },
    {
     "name": "stderr",
     "output_type": "stream",
     "text": [
      "                                                                   \r"
     ]
    },
    {
     "name": "stdout",
     "output_type": "stream",
     "text": [
      "MoviePy - Done.\n",
      "Moviepy - Writing video c:\\Users\\viggo\\Documents\\Cognitive Science\\5th semester\\Bachelor\\git_workspace\\bachelor_vff\\output_clips\\event_clip_2350.mp4\n",
      "\n"
     ]
    },
    {
     "name": "stderr",
     "output_type": "stream",
     "text": [
      "                                                              \r"
     ]
    },
    {
     "name": "stdout",
     "output_type": "stream",
     "text": [
      "Moviepy - Done !\n",
      "Moviepy - video ready c:\\Users\\viggo\\Documents\\Cognitive Science\\5th semester\\Bachelor\\git_workspace\\bachelor_vff\\output_clips\\event_clip_2350.mp4\n",
      "Saved clip to c:\\Users\\viggo\\Documents\\Cognitive Science\\5th semester\\Bachelor\\git_workspace\\bachelor_vff\\output_clips\\event_clip_2350.mp4\n",
      "Processing event 2391: Start=1876.4200439453125, End=1886.4200439453125, Output=c:\\Users\\viggo\\Documents\\Cognitive Science\\5th semester\\Bachelor\\git_workspace\\bachelor_vff\\output_clips\\event_clip_2391.mp4\n",
      "Moviepy - Building video c:\\Users\\viggo\\Documents\\Cognitive Science\\5th semester\\Bachelor\\git_workspace\\bachelor_vff\\output_clips\\event_clip_2391.mp4.\n",
      "MoviePy - Writing audio in event_clip_2391TEMP_MPY_wvf_snd.mp3\n"
     ]
    },
    {
     "name": "stderr",
     "output_type": "stream",
     "text": [
      "                                                                   \r"
     ]
    },
    {
     "name": "stdout",
     "output_type": "stream",
     "text": [
      "MoviePy - Done.\n",
      "Moviepy - Writing video c:\\Users\\viggo\\Documents\\Cognitive Science\\5th semester\\Bachelor\\git_workspace\\bachelor_vff\\output_clips\\event_clip_2391.mp4\n",
      "\n"
     ]
    },
    {
     "name": "stderr",
     "output_type": "stream",
     "text": [
      "                                                              \r"
     ]
    },
    {
     "name": "stdout",
     "output_type": "stream",
     "text": [
      "Moviepy - Done !\n",
      "Moviepy - video ready c:\\Users\\viggo\\Documents\\Cognitive Science\\5th semester\\Bachelor\\git_workspace\\bachelor_vff\\output_clips\\event_clip_2391.mp4\n",
      "Saved clip to c:\\Users\\viggo\\Documents\\Cognitive Science\\5th semester\\Bachelor\\git_workspace\\bachelor_vff\\output_clips\\event_clip_2391.mp4\n",
      "Processing event 2480: Start=1948.4599609375, End=1958.4599609375, Output=c:\\Users\\viggo\\Documents\\Cognitive Science\\5th semester\\Bachelor\\git_workspace\\bachelor_vff\\output_clips\\event_clip_2480.mp4\n",
      "Moviepy - Building video c:\\Users\\viggo\\Documents\\Cognitive Science\\5th semester\\Bachelor\\git_workspace\\bachelor_vff\\output_clips\\event_clip_2480.mp4.\n",
      "MoviePy - Writing audio in event_clip_2480TEMP_MPY_wvf_snd.mp3\n"
     ]
    },
    {
     "name": "stderr",
     "output_type": "stream",
     "text": [
      "                                                                \r"
     ]
    },
    {
     "name": "stdout",
     "output_type": "stream",
     "text": [
      "MoviePy - Done.\n",
      "Moviepy - Writing video c:\\Users\\viggo\\Documents\\Cognitive Science\\5th semester\\Bachelor\\git_workspace\\bachelor_vff\\output_clips\\event_clip_2480.mp4\n",
      "\n"
     ]
    },
    {
     "name": "stderr",
     "output_type": "stream",
     "text": [
      "                                                              \r"
     ]
    },
    {
     "name": "stdout",
     "output_type": "stream",
     "text": [
      "Moviepy - Done !\n",
      "Moviepy - video ready c:\\Users\\viggo\\Documents\\Cognitive Science\\5th semester\\Bachelor\\git_workspace\\bachelor_vff\\output_clips\\event_clip_2480.mp4\n",
      "Saved clip to c:\\Users\\viggo\\Documents\\Cognitive Science\\5th semester\\Bachelor\\git_workspace\\bachelor_vff\\output_clips\\event_clip_2480.mp4\n",
      "Processing event 2582: Start=2028.0999755859375, End=2038.0999755859375, Output=c:\\Users\\viggo\\Documents\\Cognitive Science\\5th semester\\Bachelor\\git_workspace\\bachelor_vff\\output_clips\\event_clip_2582.mp4\n",
      "Moviepy - Building video c:\\Users\\viggo\\Documents\\Cognitive Science\\5th semester\\Bachelor\\git_workspace\\bachelor_vff\\output_clips\\event_clip_2582.mp4.\n",
      "MoviePy - Writing audio in event_clip_2582TEMP_MPY_wvf_snd.mp3\n"
     ]
    },
    {
     "name": "stderr",
     "output_type": "stream",
     "text": [
      "                                                                   \r"
     ]
    },
    {
     "name": "stdout",
     "output_type": "stream",
     "text": [
      "MoviePy - Done.\n",
      "Moviepy - Writing video c:\\Users\\viggo\\Documents\\Cognitive Science\\5th semester\\Bachelor\\git_workspace\\bachelor_vff\\output_clips\\event_clip_2582.mp4\n",
      "\n"
     ]
    },
    {
     "name": "stderr",
     "output_type": "stream",
     "text": [
      "                                                              \r"
     ]
    },
    {
     "name": "stdout",
     "output_type": "stream",
     "text": [
      "Moviepy - Done !\n",
      "Moviepy - video ready c:\\Users\\viggo\\Documents\\Cognitive Science\\5th semester\\Bachelor\\git_workspace\\bachelor_vff\\output_clips\\event_clip_2582.mp4\n",
      "Saved clip to c:\\Users\\viggo\\Documents\\Cognitive Science\\5th semester\\Bachelor\\git_workspace\\bachelor_vff\\output_clips\\event_clip_2582.mp4\n",
      "Processing event 3196: Start=2472.340087890625, End=2482.340087890625, Output=c:\\Users\\viggo\\Documents\\Cognitive Science\\5th semester\\Bachelor\\git_workspace\\bachelor_vff\\output_clips\\event_clip_3196.mp4\n",
      "Moviepy - Building video c:\\Users\\viggo\\Documents\\Cognitive Science\\5th semester\\Bachelor\\git_workspace\\bachelor_vff\\output_clips\\event_clip_3196.mp4.\n",
      "MoviePy - Writing audio in event_clip_3196TEMP_MPY_wvf_snd.mp3\n"
     ]
    },
    {
     "name": "stderr",
     "output_type": "stream",
     "text": [
      "                                                                   \r"
     ]
    },
    {
     "name": "stdout",
     "output_type": "stream",
     "text": [
      "MoviePy - Done.\n",
      "Moviepy - Writing video c:\\Users\\viggo\\Documents\\Cognitive Science\\5th semester\\Bachelor\\git_workspace\\bachelor_vff\\output_clips\\event_clip_3196.mp4\n",
      "\n"
     ]
    },
    {
     "name": "stderr",
     "output_type": "stream",
     "text": [
      "                                                              \r"
     ]
    },
    {
     "name": "stdout",
     "output_type": "stream",
     "text": [
      "Moviepy - Done !\n",
      "Moviepy - video ready c:\\Users\\viggo\\Documents\\Cognitive Science\\5th semester\\Bachelor\\git_workspace\\bachelor_vff\\output_clips\\event_clip_3196.mp4\n",
      "Saved clip to c:\\Users\\viggo\\Documents\\Cognitive Science\\5th semester\\Bachelor\\git_workspace\\bachelor_vff\\output_clips\\event_clip_3196.mp4\n",
      "Processing event 3235: Start=2490.340087890625, End=2500.340087890625, Output=c:\\Users\\viggo\\Documents\\Cognitive Science\\5th semester\\Bachelor\\git_workspace\\bachelor_vff\\output_clips\\event_clip_3235.mp4\n",
      "Moviepy - Building video c:\\Users\\viggo\\Documents\\Cognitive Science\\5th semester\\Bachelor\\git_workspace\\bachelor_vff\\output_clips\\event_clip_3235.mp4.\n",
      "MoviePy - Writing audio in event_clip_3235TEMP_MPY_wvf_snd.mp3\n"
     ]
    },
    {
     "name": "stderr",
     "output_type": "stream",
     "text": [
      "                                                                   \r"
     ]
    },
    {
     "name": "stdout",
     "output_type": "stream",
     "text": [
      "MoviePy - Done.\n",
      "Moviepy - Writing video c:\\Users\\viggo\\Documents\\Cognitive Science\\5th semester\\Bachelor\\git_workspace\\bachelor_vff\\output_clips\\event_clip_3235.mp4\n",
      "\n"
     ]
    },
    {
     "name": "stderr",
     "output_type": "stream",
     "text": [
      "                                                              \r"
     ]
    },
    {
     "name": "stdout",
     "output_type": "stream",
     "text": [
      "Moviepy - Done !\n",
      "Moviepy - video ready c:\\Users\\viggo\\Documents\\Cognitive Science\\5th semester\\Bachelor\\git_workspace\\bachelor_vff\\output_clips\\event_clip_3235.mp4\n",
      "Saved clip to c:\\Users\\viggo\\Documents\\Cognitive Science\\5th semester\\Bachelor\\git_workspace\\bachelor_vff\\output_clips\\event_clip_3235.mp4\n",
      "Processing event 3246: Start=2499.6201171875, End=2509.6201171875, Output=c:\\Users\\viggo\\Documents\\Cognitive Science\\5th semester\\Bachelor\\git_workspace\\bachelor_vff\\output_clips\\event_clip_3246.mp4\n",
      "Moviepy - Building video c:\\Users\\viggo\\Documents\\Cognitive Science\\5th semester\\Bachelor\\git_workspace\\bachelor_vff\\output_clips\\event_clip_3246.mp4.\n",
      "MoviePy - Writing audio in event_clip_3246TEMP_MPY_wvf_snd.mp3\n"
     ]
    },
    {
     "name": "stderr",
     "output_type": "stream",
     "text": [
      "                                                                   \r"
     ]
    },
    {
     "name": "stdout",
     "output_type": "stream",
     "text": [
      "MoviePy - Done.\n",
      "Moviepy - Writing video c:\\Users\\viggo\\Documents\\Cognitive Science\\5th semester\\Bachelor\\git_workspace\\bachelor_vff\\output_clips\\event_clip_3246.mp4\n",
      "\n"
     ]
    },
    {
     "name": "stderr",
     "output_type": "stream",
     "text": [
      "                                                              \r"
     ]
    },
    {
     "name": "stdout",
     "output_type": "stream",
     "text": [
      "Moviepy - Done !\n",
      "Moviepy - video ready c:\\Users\\viggo\\Documents\\Cognitive Science\\5th semester\\Bachelor\\git_workspace\\bachelor_vff\\output_clips\\event_clip_3246.mp4\n",
      "Saved clip to c:\\Users\\viggo\\Documents\\Cognitive Science\\5th semester\\Bachelor\\git_workspace\\bachelor_vff\\output_clips\\event_clip_3246.mp4\n",
      "Processing event 3709: Start=2908.780029296875, End=2918.780029296875, Output=c:\\Users\\viggo\\Documents\\Cognitive Science\\5th semester\\Bachelor\\git_workspace\\bachelor_vff\\output_clips\\event_clip_3709.mp4\n",
      "Moviepy - Building video c:\\Users\\viggo\\Documents\\Cognitive Science\\5th semester\\Bachelor\\git_workspace\\bachelor_vff\\output_clips\\event_clip_3709.mp4.\n",
      "MoviePy - Writing audio in event_clip_3709TEMP_MPY_wvf_snd.mp3\n"
     ]
    },
    {
     "name": "stderr",
     "output_type": "stream",
     "text": [
      "                                                                   \r"
     ]
    },
    {
     "name": "stdout",
     "output_type": "stream",
     "text": [
      "MoviePy - Done.\n",
      "Moviepy - Writing video c:\\Users\\viggo\\Documents\\Cognitive Science\\5th semester\\Bachelor\\git_workspace\\bachelor_vff\\output_clips\\event_clip_3709.mp4\n",
      "\n"
     ]
    },
    {
     "name": "stderr",
     "output_type": "stream",
     "text": [
      "                                                              \r"
     ]
    },
    {
     "name": "stdout",
     "output_type": "stream",
     "text": [
      "Moviepy - Done !\n",
      "Moviepy - video ready c:\\Users\\viggo\\Documents\\Cognitive Science\\5th semester\\Bachelor\\git_workspace\\bachelor_vff\\output_clips\\event_clip_3709.mp4\n",
      "Saved clip to c:\\Users\\viggo\\Documents\\Cognitive Science\\5th semester\\Bachelor\\git_workspace\\bachelor_vff\\output_clips\\event_clip_3709.mp4\n",
      "Processing event 3759: Start=2977.699951171875, End=2987.699951171875, Output=c:\\Users\\viggo\\Documents\\Cognitive Science\\5th semester\\Bachelor\\git_workspace\\bachelor_vff\\output_clips\\event_clip_3759.mp4\n",
      "Moviepy - Building video c:\\Users\\viggo\\Documents\\Cognitive Science\\5th semester\\Bachelor\\git_workspace\\bachelor_vff\\output_clips\\event_clip_3759.mp4.\n",
      "MoviePy - Writing audio in event_clip_3759TEMP_MPY_wvf_snd.mp3\n"
     ]
    },
    {
     "name": "stderr",
     "output_type": "stream",
     "text": [
      "                                                                   \r"
     ]
    },
    {
     "name": "stdout",
     "output_type": "stream",
     "text": [
      "MoviePy - Done.\n",
      "Moviepy - Writing video c:\\Users\\viggo\\Documents\\Cognitive Science\\5th semester\\Bachelor\\git_workspace\\bachelor_vff\\output_clips\\event_clip_3759.mp4\n",
      "\n"
     ]
    },
    {
     "name": "stderr",
     "output_type": "stream",
     "text": [
      "                                                              \r"
     ]
    },
    {
     "name": "stdout",
     "output_type": "stream",
     "text": [
      "Moviepy - Done !\n",
      "Moviepy - video ready c:\\Users\\viggo\\Documents\\Cognitive Science\\5th semester\\Bachelor\\git_workspace\\bachelor_vff\\output_clips\\event_clip_3759.mp4\n",
      "Saved clip to c:\\Users\\viggo\\Documents\\Cognitive Science\\5th semester\\Bachelor\\git_workspace\\bachelor_vff\\output_clips\\event_clip_3759.mp4\n",
      "Processing event 4545: Start=726.5, End=736.5, Output=c:\\Users\\viggo\\Documents\\Cognitive Science\\5th semester\\Bachelor\\git_workspace\\bachelor_vff\\output_clips\\event_clip_4545.mp4\n",
      "Moviepy - Building video c:\\Users\\viggo\\Documents\\Cognitive Science\\5th semester\\Bachelor\\git_workspace\\bachelor_vff\\output_clips\\event_clip_4545.mp4.\n",
      "MoviePy - Writing audio in event_clip_4545TEMP_MPY_wvf_snd.mp3\n"
     ]
    },
    {
     "name": "stderr",
     "output_type": "stream",
     "text": [
      "                                                                   \r"
     ]
    },
    {
     "name": "stdout",
     "output_type": "stream",
     "text": [
      "MoviePy - Done.\n",
      "Moviepy - Writing video c:\\Users\\viggo\\Documents\\Cognitive Science\\5th semester\\Bachelor\\git_workspace\\bachelor_vff\\output_clips\\event_clip_4545.mp4\n",
      "\n"
     ]
    },
    {
     "name": "stderr",
     "output_type": "stream",
     "text": [
      "                                                              \r"
     ]
    },
    {
     "name": "stdout",
     "output_type": "stream",
     "text": [
      "Moviepy - Done !\n",
      "Moviepy - video ready c:\\Users\\viggo\\Documents\\Cognitive Science\\5th semester\\Bachelor\\git_workspace\\bachelor_vff\\output_clips\\event_clip_4545.mp4\n",
      "Saved clip to c:\\Users\\viggo\\Documents\\Cognitive Science\\5th semester\\Bachelor\\git_workspace\\bachelor_vff\\output_clips\\event_clip_4545.mp4\n",
      "Processing event 4596: Start=750.8599853515625, End=760.8599853515625, Output=c:\\Users\\viggo\\Documents\\Cognitive Science\\5th semester\\Bachelor\\git_workspace\\bachelor_vff\\output_clips\\event_clip_4596.mp4\n",
      "Moviepy - Building video c:\\Users\\viggo\\Documents\\Cognitive Science\\5th semester\\Bachelor\\git_workspace\\bachelor_vff\\output_clips\\event_clip_4596.mp4.\n",
      "MoviePy - Writing audio in event_clip_4596TEMP_MPY_wvf_snd.mp3\n"
     ]
    },
    {
     "name": "stderr",
     "output_type": "stream",
     "text": [
      "                                                                   \r"
     ]
    },
    {
     "name": "stdout",
     "output_type": "stream",
     "text": [
      "MoviePy - Done.\n",
      "Moviepy - Writing video c:\\Users\\viggo\\Documents\\Cognitive Science\\5th semester\\Bachelor\\git_workspace\\bachelor_vff\\output_clips\\event_clip_4596.mp4\n",
      "\n"
     ]
    },
    {
     "name": "stderr",
     "output_type": "stream",
     "text": [
      "                                                              \r"
     ]
    },
    {
     "name": "stdout",
     "output_type": "stream",
     "text": [
      "Moviepy - Done !\n",
      "Moviepy - video ready c:\\Users\\viggo\\Documents\\Cognitive Science\\5th semester\\Bachelor\\git_workspace\\bachelor_vff\\output_clips\\event_clip_4596.mp4\n",
      "Saved clip to c:\\Users\\viggo\\Documents\\Cognitive Science\\5th semester\\Bachelor\\git_workspace\\bachelor_vff\\output_clips\\event_clip_4596.mp4\n",
      "Processing event 4606: Start=755.1799926757812, End=765.1799926757812, Output=c:\\Users\\viggo\\Documents\\Cognitive Science\\5th semester\\Bachelor\\git_workspace\\bachelor_vff\\output_clips\\event_clip_4606.mp4\n",
      "Moviepy - Building video c:\\Users\\viggo\\Documents\\Cognitive Science\\5th semester\\Bachelor\\git_workspace\\bachelor_vff\\output_clips\\event_clip_4606.mp4.\n",
      "MoviePy - Writing audio in event_clip_4606TEMP_MPY_wvf_snd.mp3\n"
     ]
    },
    {
     "name": "stderr",
     "output_type": "stream",
     "text": [
      "                                                                \r"
     ]
    },
    {
     "name": "stdout",
     "output_type": "stream",
     "text": [
      "MoviePy - Done.\n",
      "Moviepy - Writing video c:\\Users\\viggo\\Documents\\Cognitive Science\\5th semester\\Bachelor\\git_workspace\\bachelor_vff\\output_clips\\event_clip_4606.mp4\n",
      "\n"
     ]
    },
    {
     "name": "stderr",
     "output_type": "stream",
     "text": [
      "                                                              \r"
     ]
    },
    {
     "name": "stdout",
     "output_type": "stream",
     "text": [
      "Moviepy - Done !\n",
      "Moviepy - video ready c:\\Users\\viggo\\Documents\\Cognitive Science\\5th semester\\Bachelor\\git_workspace\\bachelor_vff\\output_clips\\event_clip_4606.mp4\n",
      "Saved clip to c:\\Users\\viggo\\Documents\\Cognitive Science\\5th semester\\Bachelor\\git_workspace\\bachelor_vff\\output_clips\\event_clip_4606.mp4\n",
      "Processing event 4838: Start=917.97998046875, End=927.97998046875, Output=c:\\Users\\viggo\\Documents\\Cognitive Science\\5th semester\\Bachelor\\git_workspace\\bachelor_vff\\output_clips\\event_clip_4838.mp4\n",
      "Moviepy - Building video c:\\Users\\viggo\\Documents\\Cognitive Science\\5th semester\\Bachelor\\git_workspace\\bachelor_vff\\output_clips\\event_clip_4838.mp4.\n",
      "MoviePy - Writing audio in event_clip_4838TEMP_MPY_wvf_snd.mp3\n"
     ]
    },
    {
     "name": "stderr",
     "output_type": "stream",
     "text": [
      "                                                                \r"
     ]
    },
    {
     "name": "stdout",
     "output_type": "stream",
     "text": [
      "MoviePy - Done.\n",
      "Moviepy - Writing video c:\\Users\\viggo\\Documents\\Cognitive Science\\5th semester\\Bachelor\\git_workspace\\bachelor_vff\\output_clips\\event_clip_4838.mp4\n",
      "\n"
     ]
    },
    {
     "name": "stderr",
     "output_type": "stream",
     "text": [
      "                                                              \r"
     ]
    },
    {
     "name": "stdout",
     "output_type": "stream",
     "text": [
      "Moviepy - Done !\n",
      "Moviepy - video ready c:\\Users\\viggo\\Documents\\Cognitive Science\\5th semester\\Bachelor\\git_workspace\\bachelor_vff\\output_clips\\event_clip_4838.mp4\n",
      "Saved clip to c:\\Users\\viggo\\Documents\\Cognitive Science\\5th semester\\Bachelor\\git_workspace\\bachelor_vff\\output_clips\\event_clip_4838.mp4\n",
      "Processing event 4896: Start=954.7000122070312, End=964.7000122070312, Output=c:\\Users\\viggo\\Documents\\Cognitive Science\\5th semester\\Bachelor\\git_workspace\\bachelor_vff\\output_clips\\event_clip_4896.mp4\n",
      "Moviepy - Building video c:\\Users\\viggo\\Documents\\Cognitive Science\\5th semester\\Bachelor\\git_workspace\\bachelor_vff\\output_clips\\event_clip_4896.mp4.\n",
      "MoviePy - Writing audio in event_clip_4896TEMP_MPY_wvf_snd.mp3\n"
     ]
    },
    {
     "name": "stderr",
     "output_type": "stream",
     "text": [
      "                                                                \r"
     ]
    },
    {
     "name": "stdout",
     "output_type": "stream",
     "text": [
      "MoviePy - Done.\n",
      "Moviepy - Writing video c:\\Users\\viggo\\Documents\\Cognitive Science\\5th semester\\Bachelor\\git_workspace\\bachelor_vff\\output_clips\\event_clip_4896.mp4\n",
      "\n"
     ]
    },
    {
     "name": "stderr",
     "output_type": "stream",
     "text": [
      "                                                              \r"
     ]
    },
    {
     "name": "stdout",
     "output_type": "stream",
     "text": [
      "Moviepy - Done !\n",
      "Moviepy - video ready c:\\Users\\viggo\\Documents\\Cognitive Science\\5th semester\\Bachelor\\git_workspace\\bachelor_vff\\output_clips\\event_clip_4896.mp4\n",
      "Saved clip to c:\\Users\\viggo\\Documents\\Cognitive Science\\5th semester\\Bachelor\\git_workspace\\bachelor_vff\\output_clips\\event_clip_4896.mp4\n",
      "Processing event 5178: Start=1205.4600219726562, End=1215.4600219726562, Output=c:\\Users\\viggo\\Documents\\Cognitive Science\\5th semester\\Bachelor\\git_workspace\\bachelor_vff\\output_clips\\event_clip_5178.mp4\n",
      "Moviepy - Building video c:\\Users\\viggo\\Documents\\Cognitive Science\\5th semester\\Bachelor\\git_workspace\\bachelor_vff\\output_clips\\event_clip_5178.mp4.\n",
      "MoviePy - Writing audio in event_clip_5178TEMP_MPY_wvf_snd.mp3\n"
     ]
    },
    {
     "name": "stderr",
     "output_type": "stream",
     "text": [
      "                                                                \r"
     ]
    },
    {
     "name": "stdout",
     "output_type": "stream",
     "text": [
      "MoviePy - Done.\n",
      "Moviepy - Writing video c:\\Users\\viggo\\Documents\\Cognitive Science\\5th semester\\Bachelor\\git_workspace\\bachelor_vff\\output_clips\\event_clip_5178.mp4\n",
      "\n"
     ]
    },
    {
     "name": "stderr",
     "output_type": "stream",
     "text": [
      "                                                              \r"
     ]
    },
    {
     "name": "stdout",
     "output_type": "stream",
     "text": [
      "Moviepy - Done !\n",
      "Moviepy - video ready c:\\Users\\viggo\\Documents\\Cognitive Science\\5th semester\\Bachelor\\git_workspace\\bachelor_vff\\output_clips\\event_clip_5178.mp4\n",
      "Saved clip to c:\\Users\\viggo\\Documents\\Cognitive Science\\5th semester\\Bachelor\\git_workspace\\bachelor_vff\\output_clips\\event_clip_5178.mp4\n",
      "Processing event 5399: Start=1376.6199951171875, End=1386.6199951171875, Output=c:\\Users\\viggo\\Documents\\Cognitive Science\\5th semester\\Bachelor\\git_workspace\\bachelor_vff\\output_clips\\event_clip_5399.mp4\n",
      "Moviepy - Building video c:\\Users\\viggo\\Documents\\Cognitive Science\\5th semester\\Bachelor\\git_workspace\\bachelor_vff\\output_clips\\event_clip_5399.mp4.\n",
      "MoviePy - Writing audio in event_clip_5399TEMP_MPY_wvf_snd.mp3\n"
     ]
    },
    {
     "name": "stderr",
     "output_type": "stream",
     "text": [
      "                                                                \r"
     ]
    },
    {
     "name": "stdout",
     "output_type": "stream",
     "text": [
      "MoviePy - Done.\n",
      "Moviepy - Writing video c:\\Users\\viggo\\Documents\\Cognitive Science\\5th semester\\Bachelor\\git_workspace\\bachelor_vff\\output_clips\\event_clip_5399.mp4\n",
      "\n"
     ]
    },
    {
     "name": "stderr",
     "output_type": "stream",
     "text": [
      "                                                              \r"
     ]
    },
    {
     "name": "stdout",
     "output_type": "stream",
     "text": [
      "Moviepy - Done !\n",
      "Moviepy - video ready c:\\Users\\viggo\\Documents\\Cognitive Science\\5th semester\\Bachelor\\git_workspace\\bachelor_vff\\output_clips\\event_clip_5399.mp4\n",
      "Saved clip to c:\\Users\\viggo\\Documents\\Cognitive Science\\5th semester\\Bachelor\\git_workspace\\bachelor_vff\\output_clips\\event_clip_5399.mp4\n",
      "Processing event 5409: Start=1380.93994140625, End=1390.93994140625, Output=c:\\Users\\viggo\\Documents\\Cognitive Science\\5th semester\\Bachelor\\git_workspace\\bachelor_vff\\output_clips\\event_clip_5409.mp4\n",
      "Moviepy - Building video c:\\Users\\viggo\\Documents\\Cognitive Science\\5th semester\\Bachelor\\git_workspace\\bachelor_vff\\output_clips\\event_clip_5409.mp4.\n",
      "MoviePy - Writing audio in event_clip_5409TEMP_MPY_wvf_snd.mp3\n"
     ]
    },
    {
     "name": "stderr",
     "output_type": "stream",
     "text": [
      "                                                                   \r"
     ]
    },
    {
     "name": "stdout",
     "output_type": "stream",
     "text": [
      "MoviePy - Done.\n",
      "Moviepy - Writing video c:\\Users\\viggo\\Documents\\Cognitive Science\\5th semester\\Bachelor\\git_workspace\\bachelor_vff\\output_clips\\event_clip_5409.mp4\n",
      "\n"
     ]
    },
    {
     "name": "stderr",
     "output_type": "stream",
     "text": [
      "                                                              \r"
     ]
    },
    {
     "name": "stdout",
     "output_type": "stream",
     "text": [
      "Moviepy - Done !\n",
      "Moviepy - video ready c:\\Users\\viggo\\Documents\\Cognitive Science\\5th semester\\Bachelor\\git_workspace\\bachelor_vff\\output_clips\\event_clip_5409.mp4\n",
      "Saved clip to c:\\Users\\viggo\\Documents\\Cognitive Science\\5th semester\\Bachelor\\git_workspace\\bachelor_vff\\output_clips\\event_clip_5409.mp4\n",
      "Processing event 5431: Start=1394.02001953125, End=1404.02001953125, Output=c:\\Users\\viggo\\Documents\\Cognitive Science\\5th semester\\Bachelor\\git_workspace\\bachelor_vff\\output_clips\\event_clip_5431.mp4\n",
      "Moviepy - Building video c:\\Users\\viggo\\Documents\\Cognitive Science\\5th semester\\Bachelor\\git_workspace\\bachelor_vff\\output_clips\\event_clip_5431.mp4.\n",
      "MoviePy - Writing audio in event_clip_5431TEMP_MPY_wvf_snd.mp3\n"
     ]
    },
    {
     "name": "stderr",
     "output_type": "stream",
     "text": [
      "                                                                   \r"
     ]
    },
    {
     "name": "stdout",
     "output_type": "stream",
     "text": [
      "MoviePy - Done.\n",
      "Moviepy - Writing video c:\\Users\\viggo\\Documents\\Cognitive Science\\5th semester\\Bachelor\\git_workspace\\bachelor_vff\\output_clips\\event_clip_5431.mp4\n",
      "\n"
     ]
    },
    {
     "name": "stderr",
     "output_type": "stream",
     "text": [
      "                                                              \r"
     ]
    },
    {
     "name": "stdout",
     "output_type": "stream",
     "text": [
      "Moviepy - Done !\n",
      "Moviepy - video ready c:\\Users\\viggo\\Documents\\Cognitive Science\\5th semester\\Bachelor\\git_workspace\\bachelor_vff\\output_clips\\event_clip_5431.mp4\n",
      "Saved clip to c:\\Users\\viggo\\Documents\\Cognitive Science\\5th semester\\Bachelor\\git_workspace\\bachelor_vff\\output_clips\\event_clip_5431.mp4\n",
      "Processing event 5446: Start=1408.1800537109375, End=1418.1800537109375, Output=c:\\Users\\viggo\\Documents\\Cognitive Science\\5th semester\\Bachelor\\git_workspace\\bachelor_vff\\output_clips\\event_clip_5446.mp4\n",
      "Moviepy - Building video c:\\Users\\viggo\\Documents\\Cognitive Science\\5th semester\\Bachelor\\git_workspace\\bachelor_vff\\output_clips\\event_clip_5446.mp4.\n",
      "MoviePy - Writing audio in event_clip_5446TEMP_MPY_wvf_snd.mp3\n"
     ]
    },
    {
     "name": "stderr",
     "output_type": "stream",
     "text": [
      "                                                                \r"
     ]
    },
    {
     "name": "stdout",
     "output_type": "stream",
     "text": [
      "MoviePy - Done.\n",
      "Moviepy - Writing video c:\\Users\\viggo\\Documents\\Cognitive Science\\5th semester\\Bachelor\\git_workspace\\bachelor_vff\\output_clips\\event_clip_5446.mp4\n",
      "\n"
     ]
    },
    {
     "name": "stderr",
     "output_type": "stream",
     "text": [
      "                                                              \r"
     ]
    },
    {
     "name": "stdout",
     "output_type": "stream",
     "text": [
      "Moviepy - Done !\n",
      "Moviepy - video ready c:\\Users\\viggo\\Documents\\Cognitive Science\\5th semester\\Bachelor\\git_workspace\\bachelor_vff\\output_clips\\event_clip_5446.mp4\n",
      "Saved clip to c:\\Users\\viggo\\Documents\\Cognitive Science\\5th semester\\Bachelor\\git_workspace\\bachelor_vff\\output_clips\\event_clip_5446.mp4\n",
      "Processing event 5585: Start=1505.0999755859375, End=1515.0999755859375, Output=c:\\Users\\viggo\\Documents\\Cognitive Science\\5th semester\\Bachelor\\git_workspace\\bachelor_vff\\output_clips\\event_clip_5585.mp4\n",
      "Moviepy - Building video c:\\Users\\viggo\\Documents\\Cognitive Science\\5th semester\\Bachelor\\git_workspace\\bachelor_vff\\output_clips\\event_clip_5585.mp4.\n",
      "MoviePy - Writing audio in event_clip_5585TEMP_MPY_wvf_snd.mp3\n"
     ]
    },
    {
     "name": "stderr",
     "output_type": "stream",
     "text": [
      "                                                                   \r"
     ]
    },
    {
     "name": "stdout",
     "output_type": "stream",
     "text": [
      "MoviePy - Done.\n",
      "Moviepy - Writing video c:\\Users\\viggo\\Documents\\Cognitive Science\\5th semester\\Bachelor\\git_workspace\\bachelor_vff\\output_clips\\event_clip_5585.mp4\n",
      "\n"
     ]
    },
    {
     "name": "stderr",
     "output_type": "stream",
     "text": [
      "                                                              \r"
     ]
    },
    {
     "name": "stdout",
     "output_type": "stream",
     "text": [
      "Moviepy - Done !\n",
      "Moviepy - video ready c:\\Users\\viggo\\Documents\\Cognitive Science\\5th semester\\Bachelor\\git_workspace\\bachelor_vff\\output_clips\\event_clip_5585.mp4\n",
      "Saved clip to c:\\Users\\viggo\\Documents\\Cognitive Science\\5th semester\\Bachelor\\git_workspace\\bachelor_vff\\output_clips\\event_clip_5585.mp4\n",
      "Processing event 5857: Start=1654.699951171875, End=1664.699951171875, Output=c:\\Users\\viggo\\Documents\\Cognitive Science\\5th semester\\Bachelor\\git_workspace\\bachelor_vff\\output_clips\\event_clip_5857.mp4\n",
      "Moviepy - Building video c:\\Users\\viggo\\Documents\\Cognitive Science\\5th semester\\Bachelor\\git_workspace\\bachelor_vff\\output_clips\\event_clip_5857.mp4.\n",
      "MoviePy - Writing audio in event_clip_5857TEMP_MPY_wvf_snd.mp3\n"
     ]
    },
    {
     "name": "stderr",
     "output_type": "stream",
     "text": [
      "                                                                \r"
     ]
    },
    {
     "name": "stdout",
     "output_type": "stream",
     "text": [
      "MoviePy - Done.\n",
      "Moviepy - Writing video c:\\Users\\viggo\\Documents\\Cognitive Science\\5th semester\\Bachelor\\git_workspace\\bachelor_vff\\output_clips\\event_clip_5857.mp4\n",
      "\n"
     ]
    },
    {
     "name": "stderr",
     "output_type": "stream",
     "text": [
      "                                                              \r"
     ]
    },
    {
     "name": "stdout",
     "output_type": "stream",
     "text": [
      "Moviepy - Done !\n",
      "Moviepy - video ready c:\\Users\\viggo\\Documents\\Cognitive Science\\5th semester\\Bachelor\\git_workspace\\bachelor_vff\\output_clips\\event_clip_5857.mp4\n",
      "Saved clip to c:\\Users\\viggo\\Documents\\Cognitive Science\\5th semester\\Bachelor\\git_workspace\\bachelor_vff\\output_clips\\event_clip_5857.mp4\n",
      "Processing event 5989: Start=1772.5799560546875, End=1782.5799560546875, Output=c:\\Users\\viggo\\Documents\\Cognitive Science\\5th semester\\Bachelor\\git_workspace\\bachelor_vff\\output_clips\\event_clip_5989.mp4\n",
      "Moviepy - Building video c:\\Users\\viggo\\Documents\\Cognitive Science\\5th semester\\Bachelor\\git_workspace\\bachelor_vff\\output_clips\\event_clip_5989.mp4.\n",
      "MoviePy - Writing audio in event_clip_5989TEMP_MPY_wvf_snd.mp3\n"
     ]
    },
    {
     "name": "stderr",
     "output_type": "stream",
     "text": [
      "                                                                   \r"
     ]
    },
    {
     "name": "stdout",
     "output_type": "stream",
     "text": [
      "MoviePy - Done.\n",
      "Moviepy - Writing video c:\\Users\\viggo\\Documents\\Cognitive Science\\5th semester\\Bachelor\\git_workspace\\bachelor_vff\\output_clips\\event_clip_5989.mp4\n",
      "\n"
     ]
    },
    {
     "name": "stderr",
     "output_type": "stream",
     "text": [
      "                                                              \r"
     ]
    },
    {
     "name": "stdout",
     "output_type": "stream",
     "text": [
      "Moviepy - Done !\n",
      "Moviepy - video ready c:\\Users\\viggo\\Documents\\Cognitive Science\\5th semester\\Bachelor\\git_workspace\\bachelor_vff\\output_clips\\event_clip_5989.mp4\n",
      "Saved clip to c:\\Users\\viggo\\Documents\\Cognitive Science\\5th semester\\Bachelor\\git_workspace\\bachelor_vff\\output_clips\\event_clip_5989.mp4\n",
      "Processing event 6156: Start=1880.5400390625, End=1890.5400390625, Output=c:\\Users\\viggo\\Documents\\Cognitive Science\\5th semester\\Bachelor\\git_workspace\\bachelor_vff\\output_clips\\event_clip_6156.mp4\n",
      "Moviepy - Building video c:\\Users\\viggo\\Documents\\Cognitive Science\\5th semester\\Bachelor\\git_workspace\\bachelor_vff\\output_clips\\event_clip_6156.mp4.\n",
      "MoviePy - Writing audio in event_clip_6156TEMP_MPY_wvf_snd.mp3\n"
     ]
    },
    {
     "name": "stderr",
     "output_type": "stream",
     "text": [
      "                                                                \r"
     ]
    },
    {
     "name": "stdout",
     "output_type": "stream",
     "text": [
      "MoviePy - Done.\n",
      "Moviepy - Writing video c:\\Users\\viggo\\Documents\\Cognitive Science\\5th semester\\Bachelor\\git_workspace\\bachelor_vff\\output_clips\\event_clip_6156.mp4\n",
      "\n"
     ]
    },
    {
     "name": "stderr",
     "output_type": "stream",
     "text": [
      "                                                              \r"
     ]
    },
    {
     "name": "stdout",
     "output_type": "stream",
     "text": [
      "Moviepy - Done !\n",
      "Moviepy - video ready c:\\Users\\viggo\\Documents\\Cognitive Science\\5th semester\\Bachelor\\git_workspace\\bachelor_vff\\output_clips\\event_clip_6156.mp4\n",
      "Saved clip to c:\\Users\\viggo\\Documents\\Cognitive Science\\5th semester\\Bachelor\\git_workspace\\bachelor_vff\\output_clips\\event_clip_6156.mp4\n",
      "Processing event 6162: Start=1884.0999755859375, End=1894.0999755859375, Output=c:\\Users\\viggo\\Documents\\Cognitive Science\\5th semester\\Bachelor\\git_workspace\\bachelor_vff\\output_clips\\event_clip_6162.mp4\n",
      "Moviepy - Building video c:\\Users\\viggo\\Documents\\Cognitive Science\\5th semester\\Bachelor\\git_workspace\\bachelor_vff\\output_clips\\event_clip_6162.mp4.\n",
      "MoviePy - Writing audio in event_clip_6162TEMP_MPY_wvf_snd.mp3\n"
     ]
    },
    {
     "name": "stderr",
     "output_type": "stream",
     "text": [
      "                                                                   \r"
     ]
    },
    {
     "name": "stdout",
     "output_type": "stream",
     "text": [
      "MoviePy - Done.\n",
      "Moviepy - Writing video c:\\Users\\viggo\\Documents\\Cognitive Science\\5th semester\\Bachelor\\git_workspace\\bachelor_vff\\output_clips\\event_clip_6162.mp4\n",
      "\n"
     ]
    },
    {
     "name": "stderr",
     "output_type": "stream",
     "text": [
      "                                                              \r"
     ]
    },
    {
     "name": "stdout",
     "output_type": "stream",
     "text": [
      "Moviepy - Done !\n",
      "Moviepy - video ready c:\\Users\\viggo\\Documents\\Cognitive Science\\5th semester\\Bachelor\\git_workspace\\bachelor_vff\\output_clips\\event_clip_6162.mp4\n",
      "Saved clip to c:\\Users\\viggo\\Documents\\Cognitive Science\\5th semester\\Bachelor\\git_workspace\\bachelor_vff\\output_clips\\event_clip_6162.mp4\n",
      "Processing event 6270: Start=1936.780029296875, End=1946.780029296875, Output=c:\\Users\\viggo\\Documents\\Cognitive Science\\5th semester\\Bachelor\\git_workspace\\bachelor_vff\\output_clips\\event_clip_6270.mp4\n",
      "Moviepy - Building video c:\\Users\\viggo\\Documents\\Cognitive Science\\5th semester\\Bachelor\\git_workspace\\bachelor_vff\\output_clips\\event_clip_6270.mp4.\n",
      "MoviePy - Writing audio in event_clip_6270TEMP_MPY_wvf_snd.mp3\n"
     ]
    },
    {
     "name": "stderr",
     "output_type": "stream",
     "text": [
      "                                                                   \r"
     ]
    },
    {
     "name": "stdout",
     "output_type": "stream",
     "text": [
      "MoviePy - Done.\n",
      "Moviepy - Writing video c:\\Users\\viggo\\Documents\\Cognitive Science\\5th semester\\Bachelor\\git_workspace\\bachelor_vff\\output_clips\\event_clip_6270.mp4\n",
      "\n"
     ]
    },
    {
     "name": "stderr",
     "output_type": "stream",
     "text": [
      "                                                              \r"
     ]
    },
    {
     "name": "stdout",
     "output_type": "stream",
     "text": [
      "Moviepy - Done !\n",
      "Moviepy - video ready c:\\Users\\viggo\\Documents\\Cognitive Science\\5th semester\\Bachelor\\git_workspace\\bachelor_vff\\output_clips\\event_clip_6270.mp4\n",
      "Saved clip to c:\\Users\\viggo\\Documents\\Cognitive Science\\5th semester\\Bachelor\\git_workspace\\bachelor_vff\\output_clips\\event_clip_6270.mp4\n",
      "Processing event 6820: Start=2405.6201171875, End=2415.6201171875, Output=c:\\Users\\viggo\\Documents\\Cognitive Science\\5th semester\\Bachelor\\git_workspace\\bachelor_vff\\output_clips\\event_clip_6820.mp4\n",
      "Moviepy - Building video c:\\Users\\viggo\\Documents\\Cognitive Science\\5th semester\\Bachelor\\git_workspace\\bachelor_vff\\output_clips\\event_clip_6820.mp4.\n",
      "MoviePy - Writing audio in event_clip_6820TEMP_MPY_wvf_snd.mp3\n"
     ]
    },
    {
     "name": "stderr",
     "output_type": "stream",
     "text": [
      "                                                                \r"
     ]
    },
    {
     "name": "stdout",
     "output_type": "stream",
     "text": [
      "MoviePy - Done.\n",
      "Moviepy - Writing video c:\\Users\\viggo\\Documents\\Cognitive Science\\5th semester\\Bachelor\\git_workspace\\bachelor_vff\\output_clips\\event_clip_6820.mp4\n",
      "\n"
     ]
    },
    {
     "name": "stderr",
     "output_type": "stream",
     "text": [
      "                                                              \r"
     ]
    },
    {
     "name": "stdout",
     "output_type": "stream",
     "text": [
      "Moviepy - Done !\n",
      "Moviepy - video ready c:\\Users\\viggo\\Documents\\Cognitive Science\\5th semester\\Bachelor\\git_workspace\\bachelor_vff\\output_clips\\event_clip_6820.mp4\n",
      "Saved clip to c:\\Users\\viggo\\Documents\\Cognitive Science\\5th semester\\Bachelor\\git_workspace\\bachelor_vff\\output_clips\\event_clip_6820.mp4\n",
      "Processing event 7467: Start=2895.6201171875, End=2905.6201171875, Output=c:\\Users\\viggo\\Documents\\Cognitive Science\\5th semester\\Bachelor\\git_workspace\\bachelor_vff\\output_clips\\event_clip_7467.mp4\n",
      "Moviepy - Building video c:\\Users\\viggo\\Documents\\Cognitive Science\\5th semester\\Bachelor\\git_workspace\\bachelor_vff\\output_clips\\event_clip_7467.mp4.\n",
      "MoviePy - Writing audio in event_clip_7467TEMP_MPY_wvf_snd.mp3\n"
     ]
    },
    {
     "name": "stderr",
     "output_type": "stream",
     "text": [
      "                                                                \r"
     ]
    },
    {
     "name": "stdout",
     "output_type": "stream",
     "text": [
      "MoviePy - Done.\n",
      "Moviepy - Writing video c:\\Users\\viggo\\Documents\\Cognitive Science\\5th semester\\Bachelor\\git_workspace\\bachelor_vff\\output_clips\\event_clip_7467.mp4\n",
      "\n"
     ]
    },
    {
     "name": "stderr",
     "output_type": "stream",
     "text": [
      "                                                              \r"
     ]
    },
    {
     "name": "stdout",
     "output_type": "stream",
     "text": [
      "Moviepy - Done !\n",
      "Moviepy - video ready c:\\Users\\viggo\\Documents\\Cognitive Science\\5th semester\\Bachelor\\git_workspace\\bachelor_vff\\output_clips\\event_clip_7467.mp4\n",
      "Saved clip to c:\\Users\\viggo\\Documents\\Cognitive Science\\5th semester\\Bachelor\\git_workspace\\bachelor_vff\\output_clips\\event_clip_7467.mp4\n",
      "Processing event 7480: Start=2899.580078125, End=2909.580078125, Output=c:\\Users\\viggo\\Documents\\Cognitive Science\\5th semester\\Bachelor\\git_workspace\\bachelor_vff\\output_clips\\event_clip_7480.mp4\n",
      "Moviepy - Building video c:\\Users\\viggo\\Documents\\Cognitive Science\\5th semester\\Bachelor\\git_workspace\\bachelor_vff\\output_clips\\event_clip_7480.mp4.\n",
      "MoviePy - Writing audio in event_clip_7480TEMP_MPY_wvf_snd.mp3\n"
     ]
    },
    {
     "name": "stderr",
     "output_type": "stream",
     "text": [
      "                                                                \r"
     ]
    },
    {
     "name": "stdout",
     "output_type": "stream",
     "text": [
      "MoviePy - Done.\n",
      "Moviepy - Writing video c:\\Users\\viggo\\Documents\\Cognitive Science\\5th semester\\Bachelor\\git_workspace\\bachelor_vff\\output_clips\\event_clip_7480.mp4\n",
      "\n"
     ]
    },
    {
     "name": "stderr",
     "output_type": "stream",
     "text": [
      "                                                              \r"
     ]
    },
    {
     "name": "stdout",
     "output_type": "stream",
     "text": [
      "Moviepy - Done !\n",
      "Moviepy - video ready c:\\Users\\viggo\\Documents\\Cognitive Science\\5th semester\\Bachelor\\git_workspace\\bachelor_vff\\output_clips\\event_clip_7480.mp4\n",
      "Saved clip to c:\\Users\\viggo\\Documents\\Cognitive Science\\5th semester\\Bachelor\\git_workspace\\bachelor_vff\\output_clips\\event_clip_7480.mp4\n",
      "Processing event 7510: Start=2914.179931640625, End=2924.179931640625, Output=c:\\Users\\viggo\\Documents\\Cognitive Science\\5th semester\\Bachelor\\git_workspace\\bachelor_vff\\output_clips\\event_clip_7510.mp4\n",
      "Moviepy - Building video c:\\Users\\viggo\\Documents\\Cognitive Science\\5th semester\\Bachelor\\git_workspace\\bachelor_vff\\output_clips\\event_clip_7510.mp4.\n",
      "MoviePy - Writing audio in event_clip_7510TEMP_MPY_wvf_snd.mp3\n"
     ]
    },
    {
     "name": "stderr",
     "output_type": "stream",
     "text": [
      "                                                                \r"
     ]
    },
    {
     "name": "stdout",
     "output_type": "stream",
     "text": [
      "MoviePy - Done.\n",
      "Moviepy - Writing video c:\\Users\\viggo\\Documents\\Cognitive Science\\5th semester\\Bachelor\\git_workspace\\bachelor_vff\\output_clips\\event_clip_7510.mp4\n",
      "\n"
     ]
    },
    {
     "name": "stderr",
     "output_type": "stream",
     "text": [
      "                                                              \r"
     ]
    },
    {
     "name": "stdout",
     "output_type": "stream",
     "text": [
      "Moviepy - Done !\n",
      "Moviepy - video ready c:\\Users\\viggo\\Documents\\Cognitive Science\\5th semester\\Bachelor\\git_workspace\\bachelor_vff\\output_clips\\event_clip_7510.mp4\n",
      "Saved clip to c:\\Users\\viggo\\Documents\\Cognitive Science\\5th semester\\Bachelor\\git_workspace\\bachelor_vff\\output_clips\\event_clip_7510.mp4\n",
      "Processing event 7562: Start=2970.4599609375, End=2980.4599609375, Output=c:\\Users\\viggo\\Documents\\Cognitive Science\\5th semester\\Bachelor\\git_workspace\\bachelor_vff\\output_clips\\event_clip_7562.mp4\n",
      "Moviepy - Building video c:\\Users\\viggo\\Documents\\Cognitive Science\\5th semester\\Bachelor\\git_workspace\\bachelor_vff\\output_clips\\event_clip_7562.mp4.\n",
      "MoviePy - Writing audio in event_clip_7562TEMP_MPY_wvf_snd.mp3\n"
     ]
    },
    {
     "name": "stderr",
     "output_type": "stream",
     "text": [
      "                                                                \r"
     ]
    },
    {
     "name": "stdout",
     "output_type": "stream",
     "text": [
      "MoviePy - Done.\n",
      "Moviepy - Writing video c:\\Users\\viggo\\Documents\\Cognitive Science\\5th semester\\Bachelor\\git_workspace\\bachelor_vff\\output_clips\\event_clip_7562.mp4\n",
      "\n"
     ]
    },
    {
     "name": "stderr",
     "output_type": "stream",
     "text": [
      "                                                              \r"
     ]
    },
    {
     "name": "stdout",
     "output_type": "stream",
     "text": [
      "Moviepy - Done !\n",
      "Moviepy - video ready c:\\Users\\viggo\\Documents\\Cognitive Science\\5th semester\\Bachelor\\git_workspace\\bachelor_vff\\output_clips\\event_clip_7562.mp4\n",
      "Saved clip to c:\\Users\\viggo\\Documents\\Cognitive Science\\5th semester\\Bachelor\\git_workspace\\bachelor_vff\\output_clips\\event_clip_7562.mp4\n",
      "Processing event 7614: Start=3000.4599609375, End=3010.4599609375, Output=c:\\Users\\viggo\\Documents\\Cognitive Science\\5th semester\\Bachelor\\git_workspace\\bachelor_vff\\output_clips\\event_clip_7614.mp4\n",
      "Moviepy - Building video c:\\Users\\viggo\\Documents\\Cognitive Science\\5th semester\\Bachelor\\git_workspace\\bachelor_vff\\output_clips\\event_clip_7614.mp4.\n",
      "MoviePy - Writing audio in event_clip_7614TEMP_MPY_wvf_snd.mp3\n"
     ]
    },
    {
     "name": "stderr",
     "output_type": "stream",
     "text": [
      "                                                                   \r"
     ]
    },
    {
     "name": "stdout",
     "output_type": "stream",
     "text": [
      "MoviePy - Done.\n",
      "Moviepy - Writing video c:\\Users\\viggo\\Documents\\Cognitive Science\\5th semester\\Bachelor\\git_workspace\\bachelor_vff\\output_clips\\event_clip_7614.mp4\n",
      "\n"
     ]
    },
    {
     "name": "stderr",
     "output_type": "stream",
     "text": [
      "                                                              \r"
     ]
    },
    {
     "name": "stdout",
     "output_type": "stream",
     "text": [
      "Moviepy - Done !\n",
      "Moviepy - video ready c:\\Users\\viggo\\Documents\\Cognitive Science\\5th semester\\Bachelor\\git_workspace\\bachelor_vff\\output_clips\\event_clip_7614.mp4\n",
      "Saved clip to c:\\Users\\viggo\\Documents\\Cognitive Science\\5th semester\\Bachelor\\git_workspace\\bachelor_vff\\output_clips\\event_clip_7614.mp4\n"
     ]
    }
   ],
   "source": [
    "match_csv = Path(git_dir / \"events_data.csv\")\n",
    "video_path = Path(data_dir / 'output_video.mp4')\n",
    "output_dir = Path(git_dir/ 'output_clips')\n",
    "kickoff_video_time = 324.5\n",
    "\n",
    "process_match(match_csv, video_path, output_dir, kickoff_video_time)"
   ]
  }
 ],
 "metadata": {
  "kernelspec": {
   "display_name": "Python (vff310)",
   "language": "python",
   "name": "vff310"
  },
  "language_info": {
   "codemirror_mode": {
    "name": "ipython",
    "version": 3
   },
   "file_extension": ".py",
   "mimetype": "text/x-python",
   "name": "python",
   "nbconvert_exporter": "python",
   "pygments_lexer": "ipython3",
   "version": "3.10.11"
  }
 },
 "nbformat": 4,
 "nbformat_minor": 2
}
